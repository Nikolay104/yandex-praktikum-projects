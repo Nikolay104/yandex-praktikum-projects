{
 "cells": [
  {
   "cell_type": "markdown",
   "metadata": {},
   "source": [
    "<font color=blue> Привет еще раз. Спасибо, что доделал работу. Мои комментарии на этот раз выделены синим цветом.\n",
    "    \n",
    "---\n"
   ]
  },
  {
   "cell_type": "markdown",
   "metadata": {},
   "source": [
    "---\n",
    "## Комментарий от наставника\n",
    "\n",
    "Привет! Спасибо, что прислал задание:) В целом, работа производит неплохое впечатление, однако обрати внимание на некоторые мои комментарии. Они обозначены пометкой *Комментарий от наставника*. Пострайся учесть эти комментарии.\n",
    "\n",
    "---"
   ]
  },
  {
   "cell_type": "markdown",
   "metadata": {},
   "source": [
    "# Исследование объявлений о продаже квартир"
   ]
  },
  {
   "cell_type": "markdown",
   "metadata": {},
   "source": [
    "В нашем распоряжении данные сервиса Яндекс.Недвижимость — архив объявлений о продаже квартир в Санкт-Петербурге и соседних населённых пунктов за несколько лет. Нужно научиться определять рыночную стоимость объектов недвижимости. Задача — установить параметры влияющие на стоимость. Это позволит построить автоматизированную систему: она отследит аномалии и мошенническую деятельность. \n",
    "\n",
    "По каждой квартире на продажу доступны два вида данных. Первые вписаны пользователем, вторые — получены автоматически на основе картографических данных. Например, расстояние до центра, аэропорта, ближайшего парка и водоёма. "
   ]
  },
  {
   "cell_type": "markdown",
   "metadata": {},
   "source": [
    "*План работы:*"
   ]
  },
  {
   "cell_type": "markdown",
   "metadata": {},
   "source": [
    "1) Изучить время продажи квартиры.  Сколько обычно занимает продажа? Когда можно считать, что продажи прошли очень быстро, а когда необычно долго?\n",
    "\n",
    "2) Выяснить, какие факторы больше всего влияют на стоимость квартиры? Изучить, зависит ли цена от квадратного метра, числа комнат, этажа (первого или последнего), удалённости от центра. Также изучить зависимость от даты размещения: дня недели, месяца и года. Выделить 10 населённых пунктов с наибольшим числом объявлений. Посчитать среднюю цену квадратного метра в этих населённых пунктах. Выделить населённые пункты с самой высокой и низкой стоимостью жилья.\n",
    "\n",
    "3) Выделить квартиры в Санкт-Петербурге и выяснить, какая область входит в центр.\n",
    "\n",
    "4) Для квартир в центре изучить следующие параметры: площадь, цена, число комнат, высота потолков. Также выделить факторы, которые влияют на стоимость квартиры (число комнат, этаж, удалённость от центра, дата размещения объявления).\n",
    "\n",
    "5) Сравнить результаты для центра города с общими результатами по всему городу."
   ]
  },
  {
   "cell_type": "markdown",
   "metadata": {},
   "source": [
    "---\n",
    "## Комментарий от наставника\n",
    "\n",
    "\n",
    "Правильно, что есть краткое вступление в работу, описание того, что надо делать. В работе необходимо приводить краткий план того, что надо сделать (если этот план имеется). Также название работы лучше отображать в отдельной ячейке и делать крупный шрифт (заголовок). Так работа выглядит презентабельно.\n",
    "    \n",
    "---\n",
    "#### Ответ на комментарий\n",
    "постарался исправить текст согласно комментарию"
   ]
  },
  {
   "cell_type": "markdown",
   "metadata": {},
   "source": [
    "### Шаг 1. Откройте файл с данными и изучите общую информацию. "
   ]
  },
  {
   "cell_type": "markdown",
   "metadata": {},
   "source": [
    "Импорт библиотек"
   ]
  },
  {
   "cell_type": "code",
   "execution_count": 284,
   "metadata": {},
   "outputs": [],
   "source": [
    "import pandas as pd # импорт библиотеки pandas"
   ]
  },
  {
   "cell_type": "markdown",
   "metadata": {},
   "source": [
    "Прочитаем файл real_estate.csv и сохраним его в переменной data."
   ]
  },
  {
   "cell_type": "code",
   "execution_count": 285,
   "metadata": {},
   "outputs": [],
   "source": [
    "data = pd.read_csv('/datasets/real_estate_data.csv') # чтение файла с данными с сохранением в data"
   ]
  },
  {
   "cell_type": "markdown",
   "metadata": {},
   "source": [
    "Получение первых 10 строк таблицы."
   ]
  },
  {
   "cell_type": "markdown",
   "metadata": {},
   "source": [
    "---\n",
    "## Комментарий от наставника\n",
    "\n",
    "Неудачные попытки считывания данных лучше не оставлять, они не несут в себе полезной для анализа информации.\n",
    "\n",
    "---\n",
    "#### Ответ на комментарий\n",
    "удалил неудачные попытки считывания данных"
   ]
  },
  {
   "cell_type": "code",
   "execution_count": 286,
   "metadata": {},
   "outputs": [
    {
     "data": {
      "text/html": [
       "<div>\n",
       "<style scoped>\n",
       "    .dataframe tbody tr th:only-of-type {\n",
       "        vertical-align: middle;\n",
       "    }\n",
       "\n",
       "    .dataframe tbody tr th {\n",
       "        vertical-align: top;\n",
       "    }\n",
       "\n",
       "    .dataframe thead th {\n",
       "        text-align: right;\n",
       "    }\n",
       "</style>\n",
       "<table border=\"1\" class=\"dataframe\">\n",
       "  <thead>\n",
       "    <tr style=\"text-align: right;\">\n",
       "      <th></th>\n",
       "      <th>total_images</th>\n",
       "      <th>last_price</th>\n",
       "      <th>total_area</th>\n",
       "      <th>first_day_exposition</th>\n",
       "      <th>rooms</th>\n",
       "      <th>ceiling_height</th>\n",
       "      <th>floors_total</th>\n",
       "      <th>living_area</th>\n",
       "      <th>floor</th>\n",
       "      <th>is_apartment</th>\n",
       "      <th>...</th>\n",
       "      <th>kitchen_area</th>\n",
       "      <th>balcony</th>\n",
       "      <th>locality_name</th>\n",
       "      <th>airports_nearest</th>\n",
       "      <th>cityCenters_nearest</th>\n",
       "      <th>parks_around3000</th>\n",
       "      <th>parks_nearest</th>\n",
       "      <th>ponds_around3000</th>\n",
       "      <th>ponds_nearest</th>\n",
       "      <th>days_exposition</th>\n",
       "    </tr>\n",
       "  </thead>\n",
       "  <tbody>\n",
       "    <tr>\n",
       "      <td>0</td>\n",
       "      <td>20</td>\n",
       "      <td>13000000.0</td>\n",
       "      <td>108.00</td>\n",
       "      <td>2019-03-07T00:00:00</td>\n",
       "      <td>3</td>\n",
       "      <td>2.70</td>\n",
       "      <td>16.0</td>\n",
       "      <td>51.00</td>\n",
       "      <td>8</td>\n",
       "      <td>NaN</td>\n",
       "      <td>...</td>\n",
       "      <td>25.00</td>\n",
       "      <td>NaN</td>\n",
       "      <td>Санкт-Петербург</td>\n",
       "      <td>18863.0</td>\n",
       "      <td>16028.0</td>\n",
       "      <td>1.0</td>\n",
       "      <td>482.0</td>\n",
       "      <td>2.0</td>\n",
       "      <td>755.0</td>\n",
       "      <td>NaN</td>\n",
       "    </tr>\n",
       "    <tr>\n",
       "      <td>1</td>\n",
       "      <td>7</td>\n",
       "      <td>3350000.0</td>\n",
       "      <td>40.40</td>\n",
       "      <td>2018-12-04T00:00:00</td>\n",
       "      <td>1</td>\n",
       "      <td>NaN</td>\n",
       "      <td>11.0</td>\n",
       "      <td>18.60</td>\n",
       "      <td>1</td>\n",
       "      <td>NaN</td>\n",
       "      <td>...</td>\n",
       "      <td>11.00</td>\n",
       "      <td>2.0</td>\n",
       "      <td>посёлок Шушары</td>\n",
       "      <td>12817.0</td>\n",
       "      <td>18603.0</td>\n",
       "      <td>0.0</td>\n",
       "      <td>NaN</td>\n",
       "      <td>0.0</td>\n",
       "      <td>NaN</td>\n",
       "      <td>81.0</td>\n",
       "    </tr>\n",
       "    <tr>\n",
       "      <td>2</td>\n",
       "      <td>10</td>\n",
       "      <td>5196000.0</td>\n",
       "      <td>56.00</td>\n",
       "      <td>2015-08-20T00:00:00</td>\n",
       "      <td>2</td>\n",
       "      <td>NaN</td>\n",
       "      <td>5.0</td>\n",
       "      <td>34.30</td>\n",
       "      <td>4</td>\n",
       "      <td>NaN</td>\n",
       "      <td>...</td>\n",
       "      <td>8.30</td>\n",
       "      <td>0.0</td>\n",
       "      <td>Санкт-Петербург</td>\n",
       "      <td>21741.0</td>\n",
       "      <td>13933.0</td>\n",
       "      <td>1.0</td>\n",
       "      <td>90.0</td>\n",
       "      <td>2.0</td>\n",
       "      <td>574.0</td>\n",
       "      <td>558.0</td>\n",
       "    </tr>\n",
       "    <tr>\n",
       "      <td>3</td>\n",
       "      <td>0</td>\n",
       "      <td>64900000.0</td>\n",
       "      <td>159.00</td>\n",
       "      <td>2015-07-24T00:00:00</td>\n",
       "      <td>3</td>\n",
       "      <td>NaN</td>\n",
       "      <td>14.0</td>\n",
       "      <td>NaN</td>\n",
       "      <td>9</td>\n",
       "      <td>NaN</td>\n",
       "      <td>...</td>\n",
       "      <td>NaN</td>\n",
       "      <td>0.0</td>\n",
       "      <td>Санкт-Петербург</td>\n",
       "      <td>28098.0</td>\n",
       "      <td>6800.0</td>\n",
       "      <td>2.0</td>\n",
       "      <td>84.0</td>\n",
       "      <td>3.0</td>\n",
       "      <td>234.0</td>\n",
       "      <td>424.0</td>\n",
       "    </tr>\n",
       "    <tr>\n",
       "      <td>4</td>\n",
       "      <td>2</td>\n",
       "      <td>10000000.0</td>\n",
       "      <td>100.00</td>\n",
       "      <td>2018-06-19T00:00:00</td>\n",
       "      <td>2</td>\n",
       "      <td>3.03</td>\n",
       "      <td>14.0</td>\n",
       "      <td>32.00</td>\n",
       "      <td>13</td>\n",
       "      <td>NaN</td>\n",
       "      <td>...</td>\n",
       "      <td>41.00</td>\n",
       "      <td>NaN</td>\n",
       "      <td>Санкт-Петербург</td>\n",
       "      <td>31856.0</td>\n",
       "      <td>8098.0</td>\n",
       "      <td>2.0</td>\n",
       "      <td>112.0</td>\n",
       "      <td>1.0</td>\n",
       "      <td>48.0</td>\n",
       "      <td>121.0</td>\n",
       "    </tr>\n",
       "    <tr>\n",
       "      <td>5</td>\n",
       "      <td>10</td>\n",
       "      <td>2890000.0</td>\n",
       "      <td>30.40</td>\n",
       "      <td>2018-09-10T00:00:00</td>\n",
       "      <td>1</td>\n",
       "      <td>NaN</td>\n",
       "      <td>12.0</td>\n",
       "      <td>14.40</td>\n",
       "      <td>5</td>\n",
       "      <td>NaN</td>\n",
       "      <td>...</td>\n",
       "      <td>9.10</td>\n",
       "      <td>NaN</td>\n",
       "      <td>городской посёлок Янино-1</td>\n",
       "      <td>NaN</td>\n",
       "      <td>NaN</td>\n",
       "      <td>NaN</td>\n",
       "      <td>NaN</td>\n",
       "      <td>NaN</td>\n",
       "      <td>NaN</td>\n",
       "      <td>55.0</td>\n",
       "    </tr>\n",
       "    <tr>\n",
       "      <td>6</td>\n",
       "      <td>6</td>\n",
       "      <td>3700000.0</td>\n",
       "      <td>37.30</td>\n",
       "      <td>2017-11-02T00:00:00</td>\n",
       "      <td>1</td>\n",
       "      <td>NaN</td>\n",
       "      <td>26.0</td>\n",
       "      <td>10.60</td>\n",
       "      <td>6</td>\n",
       "      <td>NaN</td>\n",
       "      <td>...</td>\n",
       "      <td>14.40</td>\n",
       "      <td>1.0</td>\n",
       "      <td>посёлок Парголово</td>\n",
       "      <td>52996.0</td>\n",
       "      <td>19143.0</td>\n",
       "      <td>0.0</td>\n",
       "      <td>NaN</td>\n",
       "      <td>0.0</td>\n",
       "      <td>NaN</td>\n",
       "      <td>155.0</td>\n",
       "    </tr>\n",
       "    <tr>\n",
       "      <td>7</td>\n",
       "      <td>5</td>\n",
       "      <td>7915000.0</td>\n",
       "      <td>71.60</td>\n",
       "      <td>2019-04-18T00:00:00</td>\n",
       "      <td>2</td>\n",
       "      <td>NaN</td>\n",
       "      <td>24.0</td>\n",
       "      <td>NaN</td>\n",
       "      <td>22</td>\n",
       "      <td>NaN</td>\n",
       "      <td>...</td>\n",
       "      <td>18.90</td>\n",
       "      <td>2.0</td>\n",
       "      <td>Санкт-Петербург</td>\n",
       "      <td>23982.0</td>\n",
       "      <td>11634.0</td>\n",
       "      <td>0.0</td>\n",
       "      <td>NaN</td>\n",
       "      <td>0.0</td>\n",
       "      <td>NaN</td>\n",
       "      <td>NaN</td>\n",
       "    </tr>\n",
       "    <tr>\n",
       "      <td>8</td>\n",
       "      <td>20</td>\n",
       "      <td>2900000.0</td>\n",
       "      <td>33.16</td>\n",
       "      <td>2018-05-23T00:00:00</td>\n",
       "      <td>1</td>\n",
       "      <td>NaN</td>\n",
       "      <td>27.0</td>\n",
       "      <td>15.43</td>\n",
       "      <td>26</td>\n",
       "      <td>NaN</td>\n",
       "      <td>...</td>\n",
       "      <td>8.81</td>\n",
       "      <td>NaN</td>\n",
       "      <td>посёлок Мурино</td>\n",
       "      <td>NaN</td>\n",
       "      <td>NaN</td>\n",
       "      <td>NaN</td>\n",
       "      <td>NaN</td>\n",
       "      <td>NaN</td>\n",
       "      <td>NaN</td>\n",
       "      <td>189.0</td>\n",
       "    </tr>\n",
       "    <tr>\n",
       "      <td>9</td>\n",
       "      <td>18</td>\n",
       "      <td>5400000.0</td>\n",
       "      <td>61.00</td>\n",
       "      <td>2017-02-26T00:00:00</td>\n",
       "      <td>3</td>\n",
       "      <td>2.50</td>\n",
       "      <td>9.0</td>\n",
       "      <td>43.60</td>\n",
       "      <td>7</td>\n",
       "      <td>NaN</td>\n",
       "      <td>...</td>\n",
       "      <td>6.50</td>\n",
       "      <td>2.0</td>\n",
       "      <td>Санкт-Петербург</td>\n",
       "      <td>50898.0</td>\n",
       "      <td>15008.0</td>\n",
       "      <td>0.0</td>\n",
       "      <td>NaN</td>\n",
       "      <td>0.0</td>\n",
       "      <td>NaN</td>\n",
       "      <td>289.0</td>\n",
       "    </tr>\n",
       "  </tbody>\n",
       "</table>\n",
       "<p>10 rows × 22 columns</p>\n",
       "</div>"
      ],
      "text/plain": [
       "   total_images  last_price  total_area first_day_exposition  rooms  \\\n",
       "0            20  13000000.0      108.00  2019-03-07T00:00:00      3   \n",
       "1             7   3350000.0       40.40  2018-12-04T00:00:00      1   \n",
       "2            10   5196000.0       56.00  2015-08-20T00:00:00      2   \n",
       "3             0  64900000.0      159.00  2015-07-24T00:00:00      3   \n",
       "4             2  10000000.0      100.00  2018-06-19T00:00:00      2   \n",
       "5            10   2890000.0       30.40  2018-09-10T00:00:00      1   \n",
       "6             6   3700000.0       37.30  2017-11-02T00:00:00      1   \n",
       "7             5   7915000.0       71.60  2019-04-18T00:00:00      2   \n",
       "8            20   2900000.0       33.16  2018-05-23T00:00:00      1   \n",
       "9            18   5400000.0       61.00  2017-02-26T00:00:00      3   \n",
       "\n",
       "   ceiling_height  floors_total  living_area  floor is_apartment  ...  \\\n",
       "0            2.70          16.0        51.00      8          NaN  ...   \n",
       "1             NaN          11.0        18.60      1          NaN  ...   \n",
       "2             NaN           5.0        34.30      4          NaN  ...   \n",
       "3             NaN          14.0          NaN      9          NaN  ...   \n",
       "4            3.03          14.0        32.00     13          NaN  ...   \n",
       "5             NaN          12.0        14.40      5          NaN  ...   \n",
       "6             NaN          26.0        10.60      6          NaN  ...   \n",
       "7             NaN          24.0          NaN     22          NaN  ...   \n",
       "8             NaN          27.0        15.43     26          NaN  ...   \n",
       "9            2.50           9.0        43.60      7          NaN  ...   \n",
       "\n",
       "   kitchen_area  balcony              locality_name  airports_nearest  \\\n",
       "0         25.00      NaN            Санкт-Петербург           18863.0   \n",
       "1         11.00      2.0             посёлок Шушары           12817.0   \n",
       "2          8.30      0.0            Санкт-Петербург           21741.0   \n",
       "3           NaN      0.0            Санкт-Петербург           28098.0   \n",
       "4         41.00      NaN            Санкт-Петербург           31856.0   \n",
       "5          9.10      NaN  городской посёлок Янино-1               NaN   \n",
       "6         14.40      1.0          посёлок Парголово           52996.0   \n",
       "7         18.90      2.0            Санкт-Петербург           23982.0   \n",
       "8          8.81      NaN             посёлок Мурино               NaN   \n",
       "9          6.50      2.0            Санкт-Петербург           50898.0   \n",
       "\n",
       "  cityCenters_nearest  parks_around3000  parks_nearest  ponds_around3000  \\\n",
       "0             16028.0               1.0          482.0               2.0   \n",
       "1             18603.0               0.0            NaN               0.0   \n",
       "2             13933.0               1.0           90.0               2.0   \n",
       "3              6800.0               2.0           84.0               3.0   \n",
       "4              8098.0               2.0          112.0               1.0   \n",
       "5                 NaN               NaN            NaN               NaN   \n",
       "6             19143.0               0.0            NaN               0.0   \n",
       "7             11634.0               0.0            NaN               0.0   \n",
       "8                 NaN               NaN            NaN               NaN   \n",
       "9             15008.0               0.0            NaN               0.0   \n",
       "\n",
       "   ponds_nearest  days_exposition  \n",
       "0          755.0              NaN  \n",
       "1            NaN             81.0  \n",
       "2          574.0            558.0  \n",
       "3          234.0            424.0  \n",
       "4           48.0            121.0  \n",
       "5            NaN             55.0  \n",
       "6            NaN            155.0  \n",
       "7            NaN              NaN  \n",
       "8            NaN            189.0  \n",
       "9            NaN            289.0  \n",
       "\n",
       "[10 rows x 22 columns]"
      ]
     },
     "execution_count": 286,
     "metadata": {},
     "output_type": "execute_result"
    }
   ],
   "source": [
    "data = pd.read_csv('/datasets/real_estate_data.csv', sep='\\t')\n",
    "# чтение файла с данными, разделение данных на столбцы, и  сохранение в data\n",
    "data.head(10) # получение первых 10 строк таблицы data"
   ]
  },
  {
   "cell_type": "markdown",
   "metadata": {},
   "source": [
    "Общая информация о данных таблицы data."
   ]
  },
  {
   "cell_type": "code",
   "execution_count": 287,
   "metadata": {},
   "outputs": [
    {
     "name": "stdout",
     "output_type": "stream",
     "text": [
      "<class 'pandas.core.frame.DataFrame'>\n",
      "RangeIndex: 23699 entries, 0 to 23698\n",
      "Data columns (total 22 columns):\n",
      "total_images            23699 non-null int64\n",
      "last_price              23699 non-null float64\n",
      "total_area              23699 non-null float64\n",
      "first_day_exposition    23699 non-null object\n",
      "rooms                   23699 non-null int64\n",
      "ceiling_height          14504 non-null float64\n",
      "floors_total            23613 non-null float64\n",
      "living_area             21796 non-null float64\n",
      "floor                   23699 non-null int64\n",
      "is_apartment            2775 non-null object\n",
      "studio                  23699 non-null bool\n",
      "open_plan               23699 non-null bool\n",
      "kitchen_area            21421 non-null float64\n",
      "balcony                 12180 non-null float64\n",
      "locality_name           23650 non-null object\n",
      "airports_nearest        18157 non-null float64\n",
      "cityCenters_nearest     18180 non-null float64\n",
      "parks_around3000        18181 non-null float64\n",
      "parks_nearest           8079 non-null float64\n",
      "ponds_around3000        18181 non-null float64\n",
      "ponds_nearest           9110 non-null float64\n",
      "days_exposition         20518 non-null float64\n",
      "dtypes: bool(2), float64(14), int64(3), object(3)\n",
      "memory usage: 3.7+ MB\n"
     ]
    }
   ],
   "source": [
    "data.info() # получение общей информации о данных в таблице data"
   ]
  },
  {
   "cell_type": "markdown",
   "metadata": {},
   "source": [
    "Рассмотрим полученную информацию подробнее.\n",
    "Всего в таблице 22 столбца, 14 столбцов с вещественным типом данных - *float*, 3 столбца с целочисленным типом данных - *int*, 3 столбца с типом данных - *object* и 2 столбца с лоическим типом данных - *bool*. Здесь стоит отметить, что столбец - first_day_exposition имеет тип данных - object, в то время как содержащаяся в нём информация должна относиться к типу данных - дата/время - *dt*. Количество значений в столбцах различается. Это говорит о том, что в данных есть пропущенные значения."
   ]
  },
  {
   "cell_type": "markdown",
   "metadata": {},
   "source": [
    "Подробно разберём, какие в data столбцы и какую информацию они содержат:\n",
    "* *airports_nearest* — расстояние до ближайшего аэропорта в метрах (м)\n",
    "* *balcony* — число балконов\n",
    "* *ceiling_height* — высота потолков (м)\n",
    "* *cityCenters_nearest* — расстояние до центра города (м)\n",
    "* *days_exposition* — сколько дней было размещено объявление (от публикации до снятия)\n",
    "* *first_day_exposition* — дата публикации\n",
    "* *floor* — этаж\n",
    "* *floors_total* — всего этажей в доме\n",
    "* *is_apartment* — апартаменты (булев тип)\n",
    "* *kitchen_area* — площадь кухни в квадратных метрах (м²)\n",
    "* *last_price* — цена на момент снятия с публикации\n",
    "* *living_area* — жилая площадь в квадратных метрах(м²)\n",
    "* *locality_name* — название населённого пункта\n",
    "* *open_plan* — свободная планировка (булев тип)\n",
    "* *parks_around3000* — число парков в радиусе 3 км\n",
    "* *parks_nearest* — расстояние до ближайшего парка (м)\n",
    "* *ponds_around3000* — число водоёмов в радиусе 3 км\n",
    "* *ponds_nearest* — расстояние до ближайшего водоёма (м)\n",
    "* *rooms* — число комнат\n",
    "* *studio* — квартира-студия (булев тип)\n",
    "* *total_area* — площадь квартиры в квадратных метрах (м²)\n",
    "* *total_images* — число фотографий квартиры в объявлении\n",
    "\n",
    "Пояснение: *апартаменты* — это нежилые помещения, не относящиеся к жилому фонду, но имеющие необходимые условия для проживания."
   ]
  },
  {
   "cell_type": "markdown",
   "metadata": {},
   "source": [
    "### Вывод"
   ]
  },
  {
   "cell_type": "markdown",
   "metadata": {},
   "source": [
    "Таблица содержит подробную информацию о квартирах, выставленных на продажу в Санкт-Питербуре и ближайших населённых пунктах за несколько лет. При просмотре общей информации о таблице, выявлено несколько проблем. Во-первых, необходимо изменить тип данных у некоторых столбцов. Во-вторых, заполнить пропуски в таблице, вызванных разными причинами (информация не указана продавцом, отсутствие парков или прудов в близи от дома, актуальность объявления)"
   ]
  },
  {
   "cell_type": "markdown",
   "metadata": {},
   "source": [
    "---\n",
    "## Комментарий от наставника\n",
    "\n",
    "У меня имеется пара комментариев по данному шагу:\n",
    "- следует давать переменным осознанные имена. Таблица про квартиры - название надо бы выбрать соответствующее;\n",
    "- Можно высказать варианты обработки пропусков. Здорово, что указаны возможные причины их появления.\n",
    "\n",
    "Первый взгляд на таблицу выполнен.\n",
    "\n",
    "---\n",
    "#### Ответ на комментарий\n",
    "В рамках общего учебного проекта, я решил не переименовывать столбцы для того, чтобы не вносить путаницы при обсуждении проекта с сокурсниками и преподавателем в общем чате. Надеюсь, что сборный проект будет более индивиуальным."
   ]
  },
  {
   "cell_type": "markdown",
   "metadata": {},
   "source": [
    "### Шаг 2. Предобработка данных"
   ]
  },
  {
   "cell_type": "markdown",
   "metadata": {},
   "source": [
    "#### Обработка пропусков"
   ]
  },
  {
   "cell_type": "markdown",
   "metadata": {},
   "source": [
    "Подсчитаем общее количество пропусков в кажом столбце"
   ]
  },
  {
   "cell_type": "code",
   "execution_count": 288,
   "metadata": {},
   "outputs": [
    {
     "data": {
      "text/plain": [
       "total_images                0\n",
       "last_price                  0\n",
       "total_area                  0\n",
       "first_day_exposition        0\n",
       "rooms                       0\n",
       "ceiling_height           9195\n",
       "floors_total               86\n",
       "living_area              1903\n",
       "floor                       0\n",
       "is_apartment            20924\n",
       "studio                      0\n",
       "open_plan                   0\n",
       "kitchen_area             2278\n",
       "balcony                 11519\n",
       "locality_name              49\n",
       "airports_nearest         5542\n",
       "cityCenters_nearest      5519\n",
       "parks_around3000         5518\n",
       "parks_nearest           15620\n",
       "ponds_around3000         5518\n",
       "ponds_nearest           14589\n",
       "days_exposition          3181\n",
       "dtype: int64"
      ]
     },
     "execution_count": 288,
     "metadata": {},
     "output_type": "execute_result"
    }
   ],
   "source": [
    "data.isnull().sum() # подсчёт пропуенных значений"
   ]
  },
  {
   "cell_type": "markdown",
   "metadata": {},
   "source": [
    "Рассмотрим столбец с высотой потолков в квартирах - *ceiling_height*.\n",
    "В этом столбце могут быть не только пропуски, но и некоректные значения. Для исключения ошибок и проблем в дальнейшем, стоит на этом этапе отбросить некоректные значения и аномалии. Округлим значения до первого знака после запятой. Посмотрим на диаграмму размаха и отбросим некорректные значения."
   ]
  },
  {
   "cell_type": "code",
   "execution_count": 289,
   "metadata": {},
   "outputs": [
    {
     "data": {
      "text/plain": [
       "(2, 3.5)"
      ]
     },
     "execution_count": 289,
     "metadata": {},
     "output_type": "execute_result"
    },
    {
     "data": {
      "image/png": "[encoded data removed]",
      "text/plain": [
       "<Figure size 432x288 with 1 Axes>"
      ]
     },
     "metadata": {
      "needs_background": "light"
     },
     "output_type": "display_data"
    }
   ],
   "source": [
    "import matplotlib.pyplot as plt # импорт библиотеки matpotlib\n",
    "data.boxplot(column='ceiling_height') # отображение диаграммы ящика с усами\n",
    "plt.ylim(2, 3.5) # изменение осей графика"
   ]
  },
  {
   "cell_type": "markdown",
   "metadata": {},
   "source": [
    "К сожалению, на основе данного графика невозможно принять решение о том, какие значения стоит оставить, а какие отбросить. Поэтому будем руководствоваться нормативными документами. По СНиП минимальная высота потолков в жилых комнатах должна быть не ниже 2.5 м. Примем за нижнюю границу высоту чуть меньшую, а именно 2.4 м"
   ]
  },
  {
   "cell_type": "code",
   "execution_count": 290,
   "metadata": {},
   "outputs": [],
   "source": [
    "# отсортируем таблицу, так чтобы потолки были высотой от 2.4 м\n",
    "data = data.query('ceiling_height >= 2.4')"
   ]
  },
  {
   "cell_type": "markdown",
   "metadata": {},
   "source": [
    "Элитные квартиры могут иметь высоту потолков больше 3 метров, знаменитые \"Сталинки\" имеют высоту потолков 3.5 м. Посчитаем объявления с квартирами больше данной величины и решим, где провести верхнюю границу."
   ]
  },
  {
   "cell_type": "code",
   "execution_count": 291,
   "metadata": {},
   "outputs": [
    {
     "name": "stdout",
     "output_type": "stream",
     "text": [
      "4.00     39\n",
      "3.60     36\n",
      "3.70     30\n",
      "3.80     20\n",
      "3.55     18\n",
      "3.90     14\n",
      "4.20     10\n",
      "3.75      8\n",
      "27.00     8\n",
      "3.95      8\n",
      "25.00     7\n",
      "4.50      7\n",
      "3.54      6\n",
      "3.56      5\n",
      "3.65      4\n",
      "Name: ceiling_height, dtype: int64\n",
      "Всего: 304\n"
     ]
    }
   ],
   "source": [
    "print(data[data['ceiling_height'] > 3.5]['ceiling_height'].value_counts().head(15))\n",
    "# посмотрим на значения высоты потолков выше 3.5 м и их количество\n",
    "print('Всего:', data[data['ceiling_height'] > 3.5]['ceiling_height'].count())\n",
    "# сосчитаем общее число некорректных значений высоты потолков квартир выше 3.5 м"
   ]
  },
  {
   "cell_type": "markdown",
   "metadata": {},
   "source": [
    "Верхнее значение высоты потолков проведём по значению 4.20 м."
   ]
  },
  {
   "cell_type": "code",
   "execution_count": 292,
   "metadata": {},
   "outputs": [],
   "source": [
    "# отсортируем таблицу, так чтобы потолки были высотой от 2.4 м\n",
    "data = data.query('ceiling_height <= 4.2')"
   ]
  },
  {
   "cell_type": "markdown",
   "metadata": {},
   "source": [
    "Заполним пропуски в высоте потолков в зависимости от этажности зданий. И убедимся в отсутствии пропусков в данном столбце (ceiling_height):"
   ]
  },
  {
   "cell_type": "code",
   "execution_count": 293,
   "metadata": {},
   "outputs": [
    {
     "data": {
      "text/plain": [
       "0"
      ]
     },
     "execution_count": 293,
     "metadata": {},
     "output_type": "execute_result"
    }
   ],
   "source": [
    "# заполняем пропуски в высоте потолков - 'ceiling_height' в зависимости от общего количества этажей в здании - 'income_type' \n",
    "data['ceiling_height'].fillna(data.groupby('floors_total')['ceiling_height'].transform('median'), inplace=True)\n",
    "# подсчёт пропусков после заполнения\n",
    "data['ceiling_height'].isnull().sum()"
   ]
  },
  {
   "cell_type": "markdown",
   "metadata": {},
   "source": [
    "---\n",
    "## Комментарий от наставника\n",
    "\n",
    "Пропуски заполнены приемлемым образом.\n",
    "\n",
    "---"
   ]
  },
  {
   "cell_type": "markdown",
   "metadata": {},
   "source": [
    "---\n",
    "## Комментарий от наставника\n",
    "\n",
    "Выбросы стоит удалять после всех замен в разделе анализа данных. Делать это надо на основании диаграммы размаха.\n",
    "\n",
    "---\n",
    "#### Ответ на комментарий\n",
    "Пропуски и некорректные значения в столбце с высотой потолков создавали проблемы далее, поэтому я решил отбросить некорректные значения и выбросы уже на этом этапе."
   ]
  },
  {
   "cell_type": "markdown",
   "metadata": {},
   "source": [
    "Заполним пропуски в этажности зданий в зависимости от высоты потолков. И убедимся в отсутствии пропусков в данном столбце (floors_total):"
   ]
  },
  {
   "cell_type": "code",
   "execution_count": 294,
   "metadata": {},
   "outputs": [
    {
     "data": {
      "text/plain": [
       "0"
      ]
     },
     "execution_count": 294,
     "metadata": {},
     "output_type": "execute_result"
    }
   ],
   "source": [
    "# заполняем пропуски в высоте потолков - 'ceiling_height' в зависимости от общего количества этажей в здании - 'income_type' \n",
    "data['floors_total'].fillna(data.groupby('ceiling_height')['floors_total'].transform('median'), inplace=True)\n",
    "# подсчёт пропусков после заполнения\n",
    "data['floors_total'].isnull().sum()"
   ]
  },
  {
   "cell_type": "markdown",
   "metadata": {},
   "source": [
    "Заполним пропуски в площади жилой зоны и кухни в зависимости от числа комнат. Данный метод заполнения может исказить значения для квартир-студий, комнат в коммунальных квартирах или общежитии. Убедимся в отсутствии пропусков в столбцах (living_area, kitchen_area). Но перед этим проверим столбец rooms на наличие аномальных значений."
   ]
  },
  {
   "cell_type": "code",
   "execution_count": 295,
   "metadata": {},
   "outputs": [
    {
     "data": {
      "text/plain": [
       "2     4825\n",
       "1     4592\n",
       "3     3773\n",
       "4      797\n",
       "5      225\n",
       "0       80\n",
       "6       71\n",
       "7       41\n",
       "9        7\n",
       "8        6\n",
       "10       3\n",
       "11       2\n",
       "15       1\n",
       "14       1\n",
       "12       1\n",
       "16       1\n",
       "Name: rooms, dtype: int64"
      ]
     },
     "execution_count": 295,
     "metadata": {},
     "output_type": "execute_result"
    }
   ],
   "source": [
    "data['rooms'].value_counts()"
   ]
  },
  {
   "cell_type": "markdown",
   "metadata": {},
   "source": [
    "Нулевые значения числа комнат относятся к квартирам-студиям."
   ]
  },
  {
   "cell_type": "markdown",
   "metadata": {},
   "source": [
    "---\n",
    "## Комментарий от наставника\n",
    "\n",
    "0 комнат у квартир-студий в данных, удалять их не стоит.\n",
    "\n",
    "---\n",
    "#### Ответ на комментарий\n",
    "вернул удалённые значения"
   ]
  },
  {
   "cell_type": "code",
   "execution_count": 296,
   "metadata": {},
   "outputs": [
    {
     "data": {
      "text/plain": [
       "0"
      ]
     },
     "execution_count": 296,
     "metadata": {},
     "output_type": "execute_result"
    }
   ],
   "source": [
    "# заполняем пропуски в площади жилой зоны - 'living_area' в зависимости от общей площади - 'total_area' \n",
    "data['living_area'].fillna(data.groupby('rooms')['living_area'].transform('median'), inplace=True)\n",
    "# подсчёт пропусков после заполнения\n",
    "data['living_area'].isnull().sum()"
   ]
  },
  {
   "cell_type": "code",
   "execution_count": 297,
   "metadata": {},
   "outputs": [
    {
     "data": {
      "text/plain": [
       "0"
      ]
     },
     "execution_count": 297,
     "metadata": {},
     "output_type": "execute_result"
    }
   ],
   "source": [
    "# площадь кухни находят по разности: из общей площади вычтем площадь жилой зоны\n",
    "# данные с уже указанной площадью кухни не пострадают, а пропущенные значения заполним\n",
    "data['kitchen_area'] = data['total_area'] - data['living_area']\n",
    "data['kitchen_area'].isnull().sum()"
   ]
  },
  {
   "cell_type": "markdown",
   "metadata": {},
   "source": [
    "<font color=blue> Все-таки в квартире есть и другие помещения. Стоит найти доли всех пространств и заполнить пропуски, исходя из них.\n",
    "    \n",
    "---\n"
   ]
  },
  {
   "cell_type": "markdown",
   "metadata": {},
   "source": [
    "---\n",
    "## Комментарий от наставника\n",
    "\n",
    "При таком заполнении пропусков в площадях стоит проконтроллировать ситуацию, когда сумма площадей кухни и жилой площади больше, чем общая площадь квартиры.\n",
    "\n",
    "---\n",
    "#### Ответ на комментарий\n",
    "изменил способ заполнения пропусков в столбце с площадью кухни"
   ]
  },
  {
   "cell_type": "markdown",
   "metadata": {},
   "source": [
    "Посмотрим на оставшиеся пропущенные значения в таблце и решим, что делать с ними дальше."
   ]
  },
  {
   "cell_type": "code",
   "execution_count": 298,
   "metadata": {},
   "outputs": [
    {
     "data": {
      "text/plain": [
       "total_images                0\n",
       "last_price                  0\n",
       "total_area                  0\n",
       "first_day_exposition        0\n",
       "rooms                       0\n",
       "ceiling_height              0\n",
       "floors_total                0\n",
       "living_area                 0\n",
       "floor                       0\n",
       "is_apartment            12588\n",
       "studio                      0\n",
       "open_plan                   0\n",
       "kitchen_area                0\n",
       "balcony                  7214\n",
       "locality_name              14\n",
       "airports_nearest         2933\n",
       "cityCenters_nearest      2916\n",
       "parks_around3000         2915\n",
       "parks_nearest            9162\n",
       "ponds_around3000         2915\n",
       "ponds_nearest            8727\n",
       "days_exposition          2438\n",
       "dtype: int64"
      ]
     },
     "execution_count": 298,
     "metadata": {},
     "output_type": "execute_result"
    }
   ],
   "source": [
    "data.isnull().sum()"
   ]
  },
  {
   "cell_type": "markdown",
   "metadata": {},
   "source": [
    "Стоит отбросить строки с пропущенными названия населённых пунктов. Пропущенные значения в столбцах is_apartment и число балконов (balcony) неинтересны для данного исследования. Пропуски в столбце - days_exposition, говорят о том, что объявления не закрыты. Пропуски в остальных столбцах, возможно, связаны с тем, что данные объявления относятся не к Санкт-Петербургу, а близлежащим населённым пунктам. Если это так, то заполнить их в ручную не представляется возможным в рамках данного исследования. "
   ]
  },
  {
   "cell_type": "markdown",
   "metadata": {},
   "source": [
    "---\n",
    "## Комментарий от наставника\n",
    "\n",
    "Почему пропуски заполняются медианным по Санкт-Петербургу, когда пропуски в данном столбце есть у других городов? Так можно испортить данные. Лучше оставить эти пропуски или же заполнить их индикаторными значениями, например, -1.\n",
    "\n",
    "---\n",
    "#### Ответ на комментарий\n",
    "Оставил пропуски в столбце \"расстояние до центра города\", так как их действительно невозможно адекватно заполнить"
   ]
  },
  {
   "cell_type": "markdown",
   "metadata": {},
   "source": [
    "#### Замена типа данных"
   ]
  },
  {
   "cell_type": "markdown",
   "metadata": {},
   "source": [
    "Посмотрим на общую информацию о таблице, чтобы решить в каких столбцах имеет смысл изменить тип данных"
   ]
  },
  {
   "cell_type": "code",
   "execution_count": 299,
   "metadata": {},
   "outputs": [
    {
     "name": "stdout",
     "output_type": "stream",
     "text": [
      "<class 'pandas.core.frame.DataFrame'>\n",
      "Int64Index: 14426 entries, 0 to 23698\n",
      "Data columns (total 22 columns):\n",
      "total_images            14426 non-null int64\n",
      "last_price              14426 non-null float64\n",
      "total_area              14426 non-null float64\n",
      "first_day_exposition    14426 non-null object\n",
      "rooms                   14426 non-null int64\n",
      "ceiling_height          14426 non-null float64\n",
      "floors_total            14426 non-null float64\n",
      "living_area             14426 non-null float64\n",
      "floor                   14426 non-null int64\n",
      "is_apartment            1838 non-null object\n",
      "studio                  14426 non-null bool\n",
      "open_plan               14426 non-null bool\n",
      "kitchen_area            14426 non-null float64\n",
      "balcony                 7212 non-null float64\n",
      "locality_name           14412 non-null object\n",
      "airports_nearest        11493 non-null float64\n",
      "cityCenters_nearest     11510 non-null float64\n",
      "parks_around3000        11511 non-null float64\n",
      "parks_nearest           5264 non-null float64\n",
      "ponds_around3000        11511 non-null float64\n",
      "ponds_nearest           5699 non-null float64\n",
      "days_exposition         11988 non-null float64\n",
      "dtypes: bool(2), float64(14), int64(3), object(3)\n",
      "memory usage: 2.3+ MB\n"
     ]
    }
   ],
   "source": [
    "data.info() # получение общей информации о данных в таблице data"
   ]
  },
  {
   "cell_type": "markdown",
   "metadata": {},
   "source": [
    "Список cтолбцов, в которых может потребоваться изменить тип данных:\n",
    "* first_day_exposition - заменить на тип данных - *datetime* (так как это дата публикации)\n",
    "* is_apartment - заменить на тип данных - *bool* (жилое помещение либо является апортаментами, либо нет)\n",
    "* last_price, floors_total, balcony, parks_around3000, parks_nearest, ponds_around3000, ponds_nearest, days_exposition, cityCenters_nearest - заменить на тип данных - *int* \n",
    "(для удобства лучше заменить на тип анных *int* так как это всё категориальные переменные)"
   ]
  },
  {
   "cell_type": "markdown",
   "metadata": {},
   "source": [
    "Заменим тип данных в столбце согласно списку:"
   ]
  },
  {
   "cell_type": "code",
   "execution_count": 300,
   "metadata": {},
   "outputs": [],
   "source": [
    "# перевод из строки в дату и время\n",
    "data['first_day_exposition'] = pd.to_datetime(data['first_day_exposition'], format='%Y-%m-%dT%H:%M:%S')\n",
    "# перевод в тип данных *int* столбца *floors_total* и *last_price*\n",
    "data['last_price'] = data['last_price'].astype('int')\n",
    "data['floors_total'] = data['floors_total'].astype('int')"
   ]
  },
  {
   "cell_type": "code",
   "execution_count": 301,
   "metadata": {},
   "outputs": [
    {
     "data": {
      "text/plain": [
       "total_images                     int64\n",
       "last_price                       int64\n",
       "total_area                     float64\n",
       "first_day_exposition    datetime64[ns]\n",
       "rooms                            int64\n",
       "ceiling_height                 float64\n",
       "floors_total                     int64\n",
       "living_area                    float64\n",
       "floor                            int64\n",
       "is_apartment                    object\n",
       "studio                            bool\n",
       "open_plan                         bool\n",
       "kitchen_area                   float64\n",
       "balcony                        float64\n",
       "locality_name                   object\n",
       "airports_nearest               float64\n",
       "cityCenters_nearest            float64\n",
       "parks_around3000               float64\n",
       "parks_nearest                  float64\n",
       "ponds_around3000               float64\n",
       "ponds_nearest                  float64\n",
       "days_exposition                float64\n",
       "dtype: object"
      ]
     },
     "execution_count": 301,
     "metadata": {},
     "output_type": "execute_result"
    }
   ],
   "source": [
    "data.dtypes "
   ]
  },
  {
   "cell_type": "markdown",
   "metadata": {},
   "source": [
    "#### Обработка дубликатов"
   ]
  },
  {
   "cell_type": "markdown",
   "metadata": {},
   "source": [
    "Удалим из таблицы явные дубликаты, которые могли возникнуть при заполнении пропущенных значений."
   ]
  },
  {
   "cell_type": "code",
   "execution_count": 302,
   "metadata": {
    "scrolled": true
   },
   "outputs": [
    {
     "name": "stdout",
     "output_type": "stream",
     "text": [
      "<class 'pandas.core.frame.DataFrame'>\n",
      "RangeIndex: 14426 entries, 0 to 14425\n",
      "Data columns (total 22 columns):\n",
      "total_images            14426 non-null int64\n",
      "last_price              14426 non-null int64\n",
      "total_area              14426 non-null float64\n",
      "first_day_exposition    14426 non-null datetime64[ns]\n",
      "rooms                   14426 non-null int64\n",
      "ceiling_height          14426 non-null float64\n",
      "floors_total            14426 non-null int64\n",
      "living_area             14426 non-null float64\n",
      "floor                   14426 non-null int64\n",
      "is_apartment            1838 non-null object\n",
      "studio                  14426 non-null bool\n",
      "open_plan               14426 non-null bool\n",
      "kitchen_area            14426 non-null float64\n",
      "balcony                 7212 non-null float64\n",
      "locality_name           14412 non-null object\n",
      "airports_nearest        11493 non-null float64\n",
      "cityCenters_nearest     11510 non-null float64\n",
      "parks_around3000        11511 non-null float64\n",
      "parks_nearest           5264 non-null float64\n",
      "ponds_around3000        11511 non-null float64\n",
      "ponds_nearest           5699 non-null float64\n",
      "days_exposition         11988 non-null float64\n",
      "dtypes: bool(2), datetime64[ns](1), float64(12), int64(5), object(2)\n",
      "memory usage: 2.2+ MB\n"
     ]
    }
   ],
   "source": [
    "# удалим из таблицы данных data дубликаты\n",
    "data = data.drop_duplicates().reset_index(drop= True)\n",
    "data.info()"
   ]
  },
  {
   "cell_type": "markdown",
   "metadata": {},
   "source": [
    "Посмотрим список уникальных значений имён населённых пунктов на наличие скрытых убликатов"
   ]
  },
  {
   "cell_type": "code",
   "execution_count": 303,
   "metadata": {},
   "outputs": [
    {
     "data": {
      "text/plain": [
       "array(['Санкт-Петербург', 'Петергоф', 'посёлок Парголово',\n",
       "       'деревня Кудрово', 'Пушкин', 'поселок городского типа Красный Бор',\n",
       "       'посёлок Мурино', 'Сертолово', 'Гатчина', 'поселок Мурино',\n",
       "       'Ломоносов', 'деревня Фёдоровское', 'Выборг', 'Кронштадт',\n",
       "       'Колпино', 'Кировск', 'деревня Новое Девяткино',\n",
       "       'посёлок городского типа Сиверский',\n",
       "       'садовое товарищество Новая Ропша', 'Павловск', 'Всеволожск',\n",
       "       'Волхов', 'Кингисепп', 'Приозерск', 'Сестрорецк',\n",
       "       'поселок городского типа Кузьмоловский', 'деревня Куттузи',\n",
       "       'поселок Торковичи', 'посёлок Шушары', 'поселок Первомайское',\n",
       "       'Красное Село', 'посёлок Понтонный', 'деревня Старая',\n",
       "       'деревня Лесколово', 'село Путилово', 'Ивангород', 'Сланцы',\n",
       "       'Шлиссельбург', 'Никольское', 'Зеленогорск', 'Сосновый Бор',\n",
       "       'деревня Оржицы', 'деревня Кальтино', 'Кудрово',\n",
       "       'поселок городского типа Рощино', 'Сясьстрой', 'Кириши', 'Луга',\n",
       "       'Волосово', 'поселок Оредеж',\n",
       "       'посёлок городского типа Красный Бор', 'поселок Бугры',\n",
       "       'посёлок Металлострой', 'посёлок Молодёжное', 'Тихвин',\n",
       "       'посёлок Победа', 'деревня Нурма',\n",
       "       'поселок городского типа Синявино', 'Тосно',\n",
       "       'посёлок городского типа Кузьмоловский', 'поселок Романовка',\n",
       "       'посёлок Александровская', 'деревня Лопухинка',\n",
       "       'поселок городского типа Советский', 'посёлок Петровское',\n",
       "       'посёлок городского типа Токсово', 'поселок Новый Свет',\n",
       "       'деревня Келози', 'деревня Вартемяги', 'Подпорожье',\n",
       "       'посёлок Тельмана', 'городской поселок Большая Ижора', nan,\n",
       "       'городской посёлок Янино-1', 'городской посёлок Павлово',\n",
       "       'деревня Агалатово', 'поселок Цвелодубово',\n",
       "       'поселок городского типа Рахья', 'поселок городского типа Вырица',\n",
       "       'деревня Белогорка', 'поселок Заводской', 'деревня Горбунки',\n",
       "       'Мурино', 'деревня Батово', 'деревня Заневка', 'поселок Сельцо',\n",
       "       'городской посёлок Фёдоровское', 'деревня Мистолово',\n",
       "       'поселок Зимитицы', 'поселок Барышево', 'деревня Разметелево',\n",
       "       'поселок городского типа имени Свердлова', 'деревня Пеники',\n",
       "       'поселок Рябово', 'Отрадное', 'деревня Бегуницы', 'посёлок Поляны',\n",
       "       'посёлок Аннино', 'посёлок Стрельна', 'поселок Елизаветино',\n",
       "       'посёлок городского типа Кузнечное', 'поселок Запорожское',\n",
       "       'посёлок городского типа Рощино', 'поселок Молодцово',\n",
       "       'деревня Гостилицы', 'Коммунар',\n",
       "       'посёлок городского типа имени Морозова', 'посёлок Песочный',\n",
       "       'поселок Ильичёво', 'деревня Колтуши',\n",
       "       'посёлок городского типа Тайцы', 'поселок станции Вещево',\n",
       "       'деревня Калитино', 'поселок городского типа Дубровка',\n",
       "       'посёлок городского типа имени Свердлова', 'деревня Коркино',\n",
       "       'Новая Ладога', 'посёлок Ропша',\n",
       "       'поселок городского типа Приладожский', 'посёлок Щеглово',\n",
       "       'посёлок Гаврилово', 'Пикалёво', 'деревня Рабитицы',\n",
       "       'поселок городского типа Никольский', 'деревня Большие Колпаны',\n",
       "       'посёлок городского типа Лебяжье', 'деревня Кузьмолово',\n",
       "       'деревня Малые Колпаны', 'поселок Тельмана', 'деревня Лаголово',\n",
       "       'городской посёлок Назия', 'посёлок Репино', 'село Павлово',\n",
       "       'посёлок Ильичёво', 'поселок Углово', 'Приморск',\n",
       "       'садовое товарищество Рахья', 'посёлок городского типа Ульяновка',\n",
       "       'поселок Победа', 'деревня Меньково',\n",
       "       'городской посёлок Новоселье', 'посёлок Сапёрный', 'посёлок Бугры',\n",
       "       'деревня Гарболово', 'деревня Юкки', 'поселок Терволово',\n",
       "       'поселок Поляны', 'посёлок Новый Свет', 'посёлок Плодовое',\n",
       "       'посёлок Пудость', 'Светогорск', 'городской посёлок Мга', 'Любань',\n",
       "       'деревня Кривко', 'поселок Глебычево', 'поселок Войсковицы',\n",
       "       'поселок Жилпосёлок', 'посёлок Войскорово', 'поселок Аннино',\n",
       "       'поселок Стеклянный', 'село Русско-Высоцкое',\n",
       "       'посёлок Новогорелово', 'городской поселок Янино-1',\n",
       "       'село Копорье', 'городской посёлок Виллози', 'деревня Лампово',\n",
       "       'деревня Шпаньково', 'деревня Кипень', 'посёлок Терволово',\n",
       "       'посёлок Сумино', 'посёлок Сосново', 'деревня Старосиверская',\n",
       "       'посёлок Кикерино', 'деревня Низино', 'поселок Возрождение',\n",
       "       'посёлок Пригородный', 'посёлок Торфяное', 'поселок Суходолье',\n",
       "       'поселок Красная Долина', 'посёлок Мичуринское', 'деревня Хапо-Ое',\n",
       "       'поселок городского типа Дружная Горка', 'поселок Лисий Нос',\n",
       "       'деревня Яльгелево', 'Каменногорск', 'поселок Семрино',\n",
       "       'деревня Малое Верево', 'деревня Камышовка', 'деревня Хязельки',\n",
       "       'посёлок городского типа Павлово', 'деревня Ялгино',\n",
       "       'поселок Гончарово', 'поселок Почап', 'посёлок Сапёрное',\n",
       "       'посёлок Платформа 69-й километр',\n",
       "       'посёлок городского типа Важины', 'посёлок городского типа Мга',\n",
       "       'поселок Серебрянский', 'поселок Лукаши', 'Лодейное Поле',\n",
       "       'поселок Петровское', 'городской посёлок Рощино',\n",
       "       'посёлок при железнодорожной станции Вещево', 'деревня Извара',\n",
       "       'поселок Ушаки', 'деревня Котлы', 'поселок Кингисеппский',\n",
       "       'деревня Новолисино', 'посёлок станции Громово',\n",
       "       'поселок городского типа Ефимовский', 'деревня Глинка',\n",
       "       'поселок Глажево', 'деревня Старая Пустошь', 'поселок Коммунары',\n",
       "       'поселок Починок', 'деревня Разбегаево',\n",
       "       'посёлок городского типа Рябово', 'деревня Фалилеево',\n",
       "       'поселок Гладкое',\n",
       "       'посёлок при железнодорожной станции Приветнинское',\n",
       "       'посёлок Жилгородок', 'деревня Бор', 'посёлок Коробицыно',\n",
       "       'деревня Большая Вруда', 'городской посёлок Лесогорский',\n",
       "       'посёлок Лисий Нос', 'городской посёлок Советский',\n",
       "       'деревня Малое Карлино', 'посёлок Кобралово', 'поселок Кобралово',\n",
       "       'поселок городского типа Кондратьево',\n",
       "       'коттеджный поселок Счастье', 'поселок Мельниково',\n",
       "       'поселок Любань', 'городской посёлок Будогощь',\n",
       "       'поселок городского типа Лебяжье', 'деревня Зимитицы',\n",
       "       'деревня Тойворово', 'поселок Лесное', 'поселок Совхозный',\n",
       "       'деревня Парицы', 'посёлок Суйда',\n",
       "       'посёлок городского типа Форносово', 'деревня Сяськелево',\n",
       "       'поселок Мичуринское', 'поселок Перово',\n",
       "       'посёлок городского типа Вырица', 'Высоцк', 'поселок Гарболово',\n",
       "       'поселок Котельский', 'посёлок Стеклянный', 'посёлок Ленинское',\n",
       "       'деревня Пудомяги', 'деревня Большая Пустомержа',\n",
       "       'деревня Вахнова Кара', 'коттеджный поселок Кивеннапа Север',\n",
       "       'поселок Коробицыно', 'поселок Ромашки', 'деревня Каськово',\n",
       "       'поселок Сумино', 'поселок Новый Учхоз', 'деревня Ваганово',\n",
       "       'поселок Пушное', 'поселок станции Приветнинское', 'Бокситогорск',\n",
       "       'городской посёлок Свирьстрой', 'деревня Кисельня',\n",
       "       'посёлок Старая Малукса', 'деревня Торосово', 'деревня Ненимяки',\n",
       "       'поселок Пансионат Зелёный Бор', 'поселок Громово',\n",
       "       'деревня Рапполово', 'посёлок Мельниково', 'поселок Житково',\n",
       "       'поселок Рабитицы', 'деревня Тарасово', 'деревня Суоранда',\n",
       "       'поселок Дружноселье', 'деревня Борисова Грива',\n",
       "       'посёлок Возрождение', 'посёлок Дзержинского'], dtype=object)"
      ]
     },
     "execution_count": 303,
     "metadata": {},
     "output_type": "execute_result"
    }
   ],
   "source": [
    "data['locality_name'].unique()"
   ]
  },
  {
   "cell_type": "markdown",
   "metadata": {},
   "source": [
    "Напишим функцию для генерации кратких имён населённых пунктов путём вычитания множеств значений."
   ]
  },
  {
   "cell_type": "code",
   "execution_count": 304,
   "metadata": {},
   "outputs": [
    {
     "data": {
      "text/plain": [
       "0"
      ]
     },
     "execution_count": 304,
     "metadata": {},
     "output_type": "execute_result"
    }
   ],
   "source": [
    "data['locality_name'] = data['locality_name'].astype('str') # изменяем тип данных на строковый, для корректной работы функции\n",
    "# функция для вычитания множеств\n",
    "def short_locality_name(text):\n",
    "    unnecessary_words = (['посёлок','городской','деревня','поселок','городского','типа','садовое', \n",
    "                      'товарищество','село','городской','коттеджный', 'при', 'железнодорожной', 'станции'])\n",
    "# Список нежелательных слов, составленный вручную\n",
    "    line = list(set(text.split())-set(unnecessary_words))\n",
    "# текст из ячейке locality_name делится на отдельные слова, знаком пробела\n",
    "# затем производится вычитание значений одного множества из другого\n",
    "# переводим множество в список\n",
    "    return (' '.join(line)) # объеденяем элементы нового списка через пробел\n",
    "data['short_locality_name'] = data['locality_name'].apply(short_locality_name)\n",
    "# обавляем к таблице столбец с краткими названиями населённых пунктов\n",
    "data['locality_name'].isnull().sum()\n",
    "# проверим отсутствие нулевых значений в именах населённых пунктов"
   ]
  },
  {
   "cell_type": "markdown",
   "metadata": {},
   "source": [
    "### Выводы"
   ]
  },
  {
   "cell_type": "markdown",
   "metadata": {},
   "source": [
    "Таблица соержит множество пропусков, так как продавец квартиры при публикации объявлений заполняет строго обязательные поля, а необязательные поля заполняют по своему усмотрению. Также это может служить причиной появления пропусков и ошибок в столбцах таблицы данных, которые рассчитываются на основании введённых продавцом информации. Пропуски в столбцах с интересующими нас данными были заполнены, данные в них привеены к нужному типу и убликаты удалены стандартным методом."
   ]
  },
  {
   "cell_type": "markdown",
   "metadata": {},
   "source": [
    "---\n",
    "## Комментарий от наставника\n",
    "\n",
    "Данные подготовлены к дальнейшему анализу.\n",
    "\n",
    "---"
   ]
  },
  {
   "cell_type": "markdown",
   "metadata": {},
   "source": [
    "### Шаг 3. Посчитайте и добавьте в таблицу"
   ]
  },
  {
   "cell_type": "code",
   "execution_count": 305,
   "metadata": {},
   "outputs": [],
   "source": [
    "# добавление столбца с ценой 1 каратного метра и округлим до целого значения\n",
    "data['cost_per_square_meter'] = round(data['last_price'] / data['total_area'], -1)\n",
    "# добавление столбца день недели публикации объявления понедельник - 0, воскресенье - 6\n",
    "data['day_publication'] = data['first_day_exposition'].dt.weekday\n",
    "# добавление столбца месяца публикации объявления\n",
    "data['month_publication'] = data['first_day_exposition'].dt.month\n",
    "# добавление столбца года публикации объявления\n",
    "data['year_publication'] = data['first_day_exposition'].dt.year\n",
    "# обавим столбец с категориями квартир в зависимости от располажения на этаже\n",
    "def category_floor_housing(row):\n",
    "# функция для одной строки. категоризация данных по двум столбцам этаж и всего этажей\n",
    "    floor = row['floor']\n",
    "    floors_total = row['floors_total']\n",
    "    if floor == 1 and floors_total >= 1:\n",
    "        return 'первый'\n",
    "    if floor != 1 and floor == floors_total:\n",
    "        return 'последний'\n",
    "    return 'другой'\n",
    "# добавляем столбец с категориями квартир в зависимости от этажа\n",
    "# если 'floor' = 1 - первый этаж\n",
    "# если 'floor' = floors_total и не первый, то последний\n",
    "# все остальные записаны в категорию ругие\n",
    "data['category_floor_housing'] = data.apply(category_floor_housing, axis = 1)\n",
    "# добавляем столбец с отноением жилой площщади к общей площади и округлим до 3 знака после запятой\n",
    "data['living/total_area'] = round(data['living_area'] / data['total_area'], 3)\n",
    "# добавляем столбец с отноением площади кухни к общей площади и округлим до 3 знака после запятой\n",
    "data['kitchen/total_area'] = round(data['kitchen_area'] / data['total_area'], 3)"
   ]
  },
  {
   "cell_type": "markdown",
   "metadata": {},
   "source": [
    "Перед тем как переходить к следующей части посмотрим на общий вид таблицы и общую информацию о ней"
   ]
  },
  {
   "cell_type": "code",
   "execution_count": 306,
   "metadata": {
    "scrolled": true
   },
   "outputs": [
    {
     "data": {
      "text/html": [
       "<div>\n",
       "<style scoped>\n",
       "    .dataframe tbody tr th:only-of-type {\n",
       "        vertical-align: middle;\n",
       "    }\n",
       "\n",
       "    .dataframe tbody tr th {\n",
       "        vertical-align: top;\n",
       "    }\n",
       "\n",
       "    .dataframe thead th {\n",
       "        text-align: right;\n",
       "    }\n",
       "</style>\n",
       "<table border=\"1\" class=\"dataframe\">\n",
       "  <thead>\n",
       "    <tr style=\"text-align: right;\">\n",
       "      <th></th>\n",
       "      <th>total_images</th>\n",
       "      <th>last_price</th>\n",
       "      <th>total_area</th>\n",
       "      <th>first_day_exposition</th>\n",
       "      <th>rooms</th>\n",
       "      <th>ceiling_height</th>\n",
       "      <th>floors_total</th>\n",
       "      <th>living_area</th>\n",
       "      <th>floor</th>\n",
       "      <th>is_apartment</th>\n",
       "      <th>...</th>\n",
       "      <th>ponds_nearest</th>\n",
       "      <th>days_exposition</th>\n",
       "      <th>short_locality_name</th>\n",
       "      <th>cost_per_square_meter</th>\n",
       "      <th>day_publication</th>\n",
       "      <th>month_publication</th>\n",
       "      <th>year_publication</th>\n",
       "      <th>category_floor_housing</th>\n",
       "      <th>living/total_area</th>\n",
       "      <th>kitchen/total_area</th>\n",
       "    </tr>\n",
       "  </thead>\n",
       "  <tbody>\n",
       "    <tr>\n",
       "      <td>0</td>\n",
       "      <td>20</td>\n",
       "      <td>13000000</td>\n",
       "      <td>108.0</td>\n",
       "      <td>2019-03-07</td>\n",
       "      <td>3</td>\n",
       "      <td>2.70</td>\n",
       "      <td>16</td>\n",
       "      <td>51.0</td>\n",
       "      <td>8</td>\n",
       "      <td>NaN</td>\n",
       "      <td>...</td>\n",
       "      <td>755.0</td>\n",
       "      <td>NaN</td>\n",
       "      <td>Санкт-Петербург</td>\n",
       "      <td>120370.0</td>\n",
       "      <td>3</td>\n",
       "      <td>3</td>\n",
       "      <td>2019</td>\n",
       "      <td>другой</td>\n",
       "      <td>0.472</td>\n",
       "      <td>0.528</td>\n",
       "    </tr>\n",
       "    <tr>\n",
       "      <td>1</td>\n",
       "      <td>2</td>\n",
       "      <td>10000000</td>\n",
       "      <td>100.0</td>\n",
       "      <td>2018-06-19</td>\n",
       "      <td>2</td>\n",
       "      <td>3.03</td>\n",
       "      <td>14</td>\n",
       "      <td>32.0</td>\n",
       "      <td>13</td>\n",
       "      <td>NaN</td>\n",
       "      <td>...</td>\n",
       "      <td>48.0</td>\n",
       "      <td>121.0</td>\n",
       "      <td>Санкт-Петербург</td>\n",
       "      <td>100000.0</td>\n",
       "      <td>1</td>\n",
       "      <td>6</td>\n",
       "      <td>2018</td>\n",
       "      <td>другой</td>\n",
       "      <td>0.320</td>\n",
       "      <td>0.680</td>\n",
       "    </tr>\n",
       "    <tr>\n",
       "      <td>2</td>\n",
       "      <td>18</td>\n",
       "      <td>5400000</td>\n",
       "      <td>61.0</td>\n",
       "      <td>2017-02-26</td>\n",
       "      <td>3</td>\n",
       "      <td>2.50</td>\n",
       "      <td>9</td>\n",
       "      <td>43.6</td>\n",
       "      <td>7</td>\n",
       "      <td>NaN</td>\n",
       "      <td>...</td>\n",
       "      <td>NaN</td>\n",
       "      <td>289.0</td>\n",
       "      <td>Санкт-Петербург</td>\n",
       "      <td>88520.0</td>\n",
       "      <td>6</td>\n",
       "      <td>2</td>\n",
       "      <td>2017</td>\n",
       "      <td>другой</td>\n",
       "      <td>0.715</td>\n",
       "      <td>0.285</td>\n",
       "    </tr>\n",
       "    <tr>\n",
       "      <td>3</td>\n",
       "      <td>5</td>\n",
       "      <td>5050000</td>\n",
       "      <td>39.6</td>\n",
       "      <td>2017-11-16</td>\n",
       "      <td>1</td>\n",
       "      <td>2.67</td>\n",
       "      <td>12</td>\n",
       "      <td>20.3</td>\n",
       "      <td>3</td>\n",
       "      <td>NaN</td>\n",
       "      <td>...</td>\n",
       "      <td>553.0</td>\n",
       "      <td>137.0</td>\n",
       "      <td>Санкт-Петербург</td>\n",
       "      <td>127530.0</td>\n",
       "      <td>3</td>\n",
       "      <td>11</td>\n",
       "      <td>2017</td>\n",
       "      <td>другой</td>\n",
       "      <td>0.513</td>\n",
       "      <td>0.487</td>\n",
       "    </tr>\n",
       "    <tr>\n",
       "      <td>4</td>\n",
       "      <td>20</td>\n",
       "      <td>3550000</td>\n",
       "      <td>42.8</td>\n",
       "      <td>2017-07-01</td>\n",
       "      <td>2</td>\n",
       "      <td>2.56</td>\n",
       "      <td>5</td>\n",
       "      <td>27.0</td>\n",
       "      <td>5</td>\n",
       "      <td>NaN</td>\n",
       "      <td>...</td>\n",
       "      <td>298.0</td>\n",
       "      <td>366.0</td>\n",
       "      <td>Петергоф</td>\n",
       "      <td>82940.0</td>\n",
       "      <td>5</td>\n",
       "      <td>7</td>\n",
       "      <td>2017</td>\n",
       "      <td>последний</td>\n",
       "      <td>0.631</td>\n",
       "      <td>0.369</td>\n",
       "    </tr>\n",
       "  </tbody>\n",
       "</table>\n",
       "<p>5 rows × 30 columns</p>\n",
       "</div>"
      ],
      "text/plain": [
       "   total_images  last_price  total_area first_day_exposition  rooms  \\\n",
       "0            20    13000000       108.0           2019-03-07      3   \n",
       "1             2    10000000       100.0           2018-06-19      2   \n",
       "2            18     5400000        61.0           2017-02-26      3   \n",
       "3             5     5050000        39.6           2017-11-16      1   \n",
       "4            20     3550000        42.8           2017-07-01      2   \n",
       "\n",
       "   ceiling_height  floors_total  living_area  floor is_apartment  ...  \\\n",
       "0            2.70            16         51.0      8          NaN  ...   \n",
       "1            3.03            14         32.0     13          NaN  ...   \n",
       "2            2.50             9         43.6      7          NaN  ...   \n",
       "3            2.67            12         20.3      3          NaN  ...   \n",
       "4            2.56             5         27.0      5          NaN  ...   \n",
       "\n",
       "   ponds_nearest  days_exposition  short_locality_name  cost_per_square_meter  \\\n",
       "0          755.0              NaN      Санкт-Петербург               120370.0   \n",
       "1           48.0            121.0      Санкт-Петербург               100000.0   \n",
       "2            NaN            289.0      Санкт-Петербург                88520.0   \n",
       "3          553.0            137.0      Санкт-Петербург               127530.0   \n",
       "4          298.0            366.0             Петергоф                82940.0   \n",
       "\n",
       "  day_publication  month_publication  year_publication  \\\n",
       "0               3                  3              2019   \n",
       "1               1                  6              2018   \n",
       "2               6                  2              2017   \n",
       "3               3                 11              2017   \n",
       "4               5                  7              2017   \n",
       "\n",
       "   category_floor_housing  living/total_area  kitchen/total_area  \n",
       "0                  другой              0.472               0.528  \n",
       "1                  другой              0.320               0.680  \n",
       "2                  другой              0.715               0.285  \n",
       "3                  другой              0.513               0.487  \n",
       "4               последний              0.631               0.369  \n",
       "\n",
       "[5 rows x 30 columns]"
      ]
     },
     "execution_count": 306,
     "metadata": {},
     "output_type": "execute_result"
    }
   ],
   "source": [
    "data.head()"
   ]
  },
  {
   "cell_type": "code",
   "execution_count": 307,
   "metadata": {},
   "outputs": [
    {
     "name": "stdout",
     "output_type": "stream",
     "text": [
      "<class 'pandas.core.frame.DataFrame'>\n",
      "RangeIndex: 14426 entries, 0 to 14425\n",
      "Data columns (total 30 columns):\n",
      "total_images              14426 non-null int64\n",
      "last_price                14426 non-null int64\n",
      "total_area                14426 non-null float64\n",
      "first_day_exposition      14426 non-null datetime64[ns]\n",
      "rooms                     14426 non-null int64\n",
      "ceiling_height            14426 non-null float64\n",
      "floors_total              14426 non-null int64\n",
      "living_area               14426 non-null float64\n",
      "floor                     14426 non-null int64\n",
      "is_apartment              1838 non-null object\n",
      "studio                    14426 non-null bool\n",
      "open_plan                 14426 non-null bool\n",
      "kitchen_area              14426 non-null float64\n",
      "balcony                   7212 non-null float64\n",
      "locality_name             14426 non-null object\n",
      "airports_nearest          11493 non-null float64\n",
      "cityCenters_nearest       11510 non-null float64\n",
      "parks_around3000          11511 non-null float64\n",
      "parks_nearest             5264 non-null float64\n",
      "ponds_around3000          11511 non-null float64\n",
      "ponds_nearest             5699 non-null float64\n",
      "days_exposition           11988 non-null float64\n",
      "short_locality_name       14426 non-null object\n",
      "cost_per_square_meter     14426 non-null float64\n",
      "day_publication           14426 non-null int64\n",
      "month_publication         14426 non-null int64\n",
      "year_publication          14426 non-null int64\n",
      "category_floor_housing    14426 non-null object\n",
      "living/total_area         14426 non-null float64\n",
      "kitchen/total_area        14426 non-null float64\n",
      "dtypes: bool(2), datetime64[ns](1), float64(15), int64(8), object(4)\n",
      "memory usage: 3.1+ MB\n",
      "None\n"
     ]
    }
   ],
   "source": [
    "print(data.info())"
   ]
  },
  {
   "cell_type": "markdown",
   "metadata": {},
   "source": [
    "### Выводы"
   ]
  },
  {
   "cell_type": "markdown",
   "metadata": {},
   "source": [
    "В таблицу были добавлены новые метрики: стоимость 1 квадратного метра, отношение жилой площщади к общей площади квартиры и отношение площщади кухни к общей площщади. Была проведена категоризация квартир в зависимости от этажа (на первом, на последнем и все остальные). Добавлены столбцы с днём, месяцем и годом публикации объявлений."
   ]
  },
  {
   "cell_type": "markdown",
   "metadata": {},
   "source": [
    "---\n",
    "## Комментарий от наставника\n",
    "\n",
    "Добавление необходимых параметров выполнено верно.\n",
    "\n",
    "---"
   ]
  },
  {
   "cell_type": "markdown",
   "metadata": {},
   "source": [
    "### Шаг 4. Проведите исследовательский анализ данных и выполните инструкции:"
   ]
  },
  {
   "cell_type": "markdown",
   "metadata": {},
   "source": [
    "Посмотрим на частоту объявлений в зависимости от числа комнат."
   ]
  },
  {
   "cell_type": "code",
   "execution_count": 308,
   "metadata": {},
   "outputs": [
    {
     "data": {
      "text/plain": [
       "2     4825\n",
       "1     4592\n",
       "3     3773\n",
       "4      797\n",
       "5      225\n",
       "0       80\n",
       "6       71\n",
       "7       41\n",
       "9        7\n",
       "8        6\n",
       "10       3\n",
       "11       2\n",
       "15       1\n",
       "14       1\n",
       "12       1\n",
       "16       1\n",
       "Name: rooms, dtype: int64"
      ]
     },
     "execution_count": 308,
     "metadata": {},
     "output_type": "execute_result"
    }
   ],
   "source": [
    "data['rooms'].value_counts()"
   ]
  },
  {
   "cell_type": "markdown",
   "metadata": {},
   "source": [
    "Посмотрим сводную таблицу по числу комнат (категориальная переменная), для каждой найдём среднюю площадь, цену и высоту потолков"
   ]
  },
  {
   "cell_type": "code",
   "execution_count": 309,
   "metadata": {},
   "outputs": [
    {
     "data": {
      "text/html": [
       "<div>\n",
       "<style scoped>\n",
       "    .dataframe tbody tr th:only-of-type {\n",
       "        vertical-align: middle;\n",
       "    }\n",
       "\n",
       "    .dataframe tbody tr th {\n",
       "        vertical-align: top;\n",
       "    }\n",
       "\n",
       "    .dataframe thead th {\n",
       "        text-align: right;\n",
       "    }\n",
       "</style>\n",
       "<table border=\"1\" class=\"dataframe\">\n",
       "  <thead>\n",
       "    <tr style=\"text-align: right;\">\n",
       "      <th></th>\n",
       "      <th>ceiling_height</th>\n",
       "      <th>last_price</th>\n",
       "      <th>total_area</th>\n",
       "    </tr>\n",
       "    <tr>\n",
       "      <th>rooms</th>\n",
       "      <th></th>\n",
       "      <th></th>\n",
       "      <th></th>\n",
       "    </tr>\n",
       "  </thead>\n",
       "  <tbody>\n",
       "    <tr>\n",
       "      <td>0</td>\n",
       "      <td>2.77</td>\n",
       "      <td>4.080927e+06</td>\n",
       "      <td>32.51</td>\n",
       "    </tr>\n",
       "    <tr>\n",
       "      <td>1</td>\n",
       "      <td>2.67</td>\n",
       "      <td>3.919878e+06</td>\n",
       "      <td>37.70</td>\n",
       "    </tr>\n",
       "    <tr>\n",
       "      <td>2</td>\n",
       "      <td>2.70</td>\n",
       "      <td>5.760051e+06</td>\n",
       "      <td>55.82</td>\n",
       "    </tr>\n",
       "    <tr>\n",
       "      <td>3</td>\n",
       "      <td>2.75</td>\n",
       "      <td>8.285289e+06</td>\n",
       "      <td>77.68</td>\n",
       "    </tr>\n",
       "    <tr>\n",
       "      <td>4</td>\n",
       "      <td>2.89</td>\n",
       "      <td>1.321217e+07</td>\n",
       "      <td>106.33</td>\n",
       "    </tr>\n",
       "    <tr>\n",
       "      <td>5</td>\n",
       "      <td>3.13</td>\n",
       "      <td>2.130531e+07</td>\n",
       "      <td>160.43</td>\n",
       "    </tr>\n",
       "    <tr>\n",
       "      <td>6</td>\n",
       "      <td>3.19</td>\n",
       "      <td>3.095607e+07</td>\n",
       "      <td>194.13</td>\n",
       "    </tr>\n",
       "    <tr>\n",
       "      <td>7</td>\n",
       "      <td>3.36</td>\n",
       "      <td>4.050595e+07</td>\n",
       "      <td>257.35</td>\n",
       "    </tr>\n",
       "    <tr>\n",
       "      <td>8</td>\n",
       "      <td>3.43</td>\n",
       "      <td>4.858167e+07</td>\n",
       "      <td>229.75</td>\n",
       "    </tr>\n",
       "    <tr>\n",
       "      <td>9</td>\n",
       "      <td>3.06</td>\n",
       "      <td>3.624556e+07</td>\n",
       "      <td>305.44</td>\n",
       "    </tr>\n",
       "    <tr>\n",
       "      <td>10</td>\n",
       "      <td>3.26</td>\n",
       "      <td>2.616667e+07</td>\n",
       "      <td>259.57</td>\n",
       "    </tr>\n",
       "    <tr>\n",
       "      <td>11</td>\n",
       "      <td>3.42</td>\n",
       "      <td>2.525000e+07</td>\n",
       "      <td>188.90</td>\n",
       "    </tr>\n",
       "    <tr>\n",
       "      <td>12</td>\n",
       "      <td>2.80</td>\n",
       "      <td>4.200000e+08</td>\n",
       "      <td>900.00</td>\n",
       "    </tr>\n",
       "    <tr>\n",
       "      <td>14</td>\n",
       "      <td>3.16</td>\n",
       "      <td>2.500000e+07</td>\n",
       "      <td>363.00</td>\n",
       "    </tr>\n",
       "    <tr>\n",
       "      <td>15</td>\n",
       "      <td>3.50</td>\n",
       "      <td>6.500000e+07</td>\n",
       "      <td>590.00</td>\n",
       "    </tr>\n",
       "    <tr>\n",
       "      <td>16</td>\n",
       "      <td>3.00</td>\n",
       "      <td>2.850000e+07</td>\n",
       "      <td>270.00</td>\n",
       "    </tr>\n",
       "  </tbody>\n",
       "</table>\n",
       "</div>"
      ],
      "text/plain": [
       "       ceiling_height    last_price  total_area\n",
       "rooms                                          \n",
       "0                2.77  4.080927e+06       32.51\n",
       "1                2.67  3.919878e+06       37.70\n",
       "2                2.70  5.760051e+06       55.82\n",
       "3                2.75  8.285289e+06       77.68\n",
       "4                2.89  1.321217e+07      106.33\n",
       "5                3.13  2.130531e+07      160.43\n",
       "6                3.19  3.095607e+07      194.13\n",
       "7                3.36  4.050595e+07      257.35\n",
       "8                3.43  4.858167e+07      229.75\n",
       "9                3.06  3.624556e+07      305.44\n",
       "10               3.26  2.616667e+07      259.57\n",
       "11               3.42  2.525000e+07      188.90\n",
       "12               2.80  4.200000e+08      900.00\n",
       "14               3.16  2.500000e+07      363.00\n",
       "15               3.50  6.500000e+07      590.00\n",
       "16               3.00  2.850000e+07      270.00"
      ]
     },
     "execution_count": 309,
     "metadata": {},
     "output_type": "execute_result"
    }
   ],
   "source": [
    "rooms_pivot = round(data.pivot_table(index = 'rooms', values = ['total_area','last_price','ceiling_height']), 2)\n",
    "rooms_pivot"
   ]
  },
  {
   "cell_type": "markdown",
   "metadata": {},
   "source": [
    "Абсолютное большинство квартир выставленных на продажу имеют не более 4 комнат. Жильё с большим числом комнат является либо элитным и располагается ближе к центру города, либо загородные особняки. Квартиры с числом комнат 1, 2 или 3 имеют примерно одинаквую высоту потолков, что говорит о том что они находятся в зданиях, построенных по типовым проектам. С ростом числа комнат (и следовательно общей площади) увеличивается и стоимость жилья. Жильё со множеством комнат имеет большую площадь, что очевидно."
   ]
  },
  {
   "cell_type": "markdown",
   "metadata": {},
   "source": [
    "Построим гистограммы для этих параметров: общая площадь, цена, число комнат, высота потолков"
   ]
  },
  {
   "cell_type": "code",
   "execution_count": 310,
   "metadata": {},
   "outputs": [
    {
     "name": "stdout",
     "output_type": "stream",
     "text": [
      "<class 'pandas.core.frame.DataFrame'>\n",
      "RangeIndex: 14426 entries, 0 to 14425\n",
      "Data columns (total 4 columns):\n",
      "last_price        14426 non-null int64\n",
      "total_area        14426 non-null float64\n",
      "rooms             14426 non-null int64\n",
      "ceiling_height    14426 non-null float64\n",
      "dtypes: float64(2), int64(2)\n",
      "memory usage: 450.9 KB\n"
     ]
    }
   ],
   "source": [
    "import math # импорт модуля math\n",
    "import numpy as np # импорт библиотеки numpy\n",
    "def function_for_building_histograms(column): # функция для построения гистограмм\n",
    "    N = len(column.unique()) # находим объём выборки, как длину списка уникальных значений\n",
    "    k = round(math.sqrt(N)) # определение “оптимального” числа интервалов как квадратный корень из N\n",
    "    # можно также воспользоваться формулой Брукса и Каррузера : 5*math.log10(N)\n",
    "    Q1 = np.percentile(column,25) # первый квантиль\n",
    "    Q3 = np.percentile(column,75) # третий квантиль\n",
    "    IQR = Q3 - Q1 # межквартильный диапазон\n",
    "    max_value = round(Q3 + 3 * IQR) # # минимальное значение интервала построения графика\n",
    "    min_value = round(Q1 - 3 * IQR) # максимальное значение интервала построения графика\n",
    "    return column.plot(kind='hist', bins=k, legend=True, range=(0,  max_value))\n",
    "    # так как у нас все значения больше нуля, примим за минимум 0\n",
    "analysis = data.iloc[:,[1,2,4,5]].copy(deep=True)\n",
    "# выберим столбцы со значениями общей площади, цены, числа комнат, высоты потолков\n",
    "analysis.info()"
   ]
  },
  {
   "cell_type": "code",
   "execution_count": 311,
   "metadata": {},
   "outputs": [
    {
     "data": {
      "text/plain": [
       "<matplotlib.axes._subplots.AxesSubplot at 0x7fa9ce5eee50>"
      ]
     },
     "execution_count": 311,
     "metadata": {},
     "output_type": "execute_result"
    },
    {
     "data": {
      "image/png": "[encoded data removed]",
      "text/plain": [
       "<Figure size 432x288 with 1 Axes>"
      ]
     },
     "metadata": {
      "needs_background": "light"
     },
     "output_type": "display_data"
    }
   ],
   "source": [
    "# гистограмма цен на жильё\n",
    "function_for_building_histograms(analysis['last_price'])"
   ]
  },
  {
   "cell_type": "code",
   "execution_count": 312,
   "metadata": {},
   "outputs": [
    {
     "data": {
      "text/plain": [
       "<matplotlib.axes._subplots.AxesSubplot at 0x7fa9ce790210>"
      ]
     },
     "execution_count": 312,
     "metadata": {},
     "output_type": "execute_result"
    },
    {
     "data": {
      "image/png": "[encoded data removed]",
      "text/plain": [
       "<Figure size 432x288 with 1 Axes>"
      ]
     },
     "metadata": {
      "needs_background": "light"
     },
     "output_type": "display_data"
    }
   ],
   "source": [
    "# гистограмма общей площади\n",
    "function_for_building_histograms(analysis['total_area'])"
   ]
  },
  {
   "cell_type": "code",
   "execution_count": 313,
   "metadata": {},
   "outputs": [
    {
     "data": {
      "text/plain": [
       "<matplotlib.axes._subplots.AxesSubplot at 0x7fa9cf225250>"
      ]
     },
     "execution_count": 313,
     "metadata": {},
     "output_type": "execute_result"
    },
    {
     "data": {
      "image/png": "[encoded data removed]",
      "text/plain": [
       "<Figure size 432x288 with 1 Axes>"
      ]
     },
     "metadata": {
      "needs_background": "light"
     },
     "output_type": "display_data"
    }
   ],
   "source": [
    "# гистограмма числа комнат\n",
    "function_for_building_histograms(analysis['rooms'])"
   ]
  },
  {
   "cell_type": "code",
   "execution_count": 314,
   "metadata": {},
   "outputs": [
    {
     "data": {
      "text/plain": [
       "<matplotlib.axes._subplots.AxesSubplot at 0x7fa9ce362050>"
      ]
     },
     "execution_count": 314,
     "metadata": {},
     "output_type": "execute_result"
    },
    {
     "data": {
      "image/png": "[encoded data removed]",
      "text/plain": [
       "<Figure size 432x288 with 1 Axes>"
      ]
     },
     "metadata": {
      "needs_background": "light"
     },
     "output_type": "display_data"
    }
   ],
   "source": [
    "# гистограмма высоты потолков\n",
    "function_for_building_histograms(analysis['ceiling_height'])"
   ]
  },
  {
   "cell_type": "markdown",
   "metadata": {},
   "source": [
    "Так как число объявлений о проажи квартир с 1, 2 или 3 комнатами привалируют, мы видим соответствующие им пики на всех гистограммах. Так же есть явная положительная корреляция между общей площщадью квартиры и ценой."
   ]
  },
  {
   "cell_type": "markdown",
   "metadata": {},
   "source": [
    "---\n",
    "## Комментарий от наставника\n",
    "\n",
    "При анализе ты проводишь однотипные действия на каждом шаге. Попробуй автоматизировать процесс построения графиков через цикл или собственную функцию. Интервал построения графиков рассчитывай автоматически. Например, от Q1-3\\*IQR до Q3+3\\*IQR. Число корзин выбери оптимальным для всех графиков.\n",
    "\n",
    "---\n",
    "#### Ответ на комментарий\n",
    "добавил функцию, которая принемает на вход столбец и вовращает гистограмму."
   ]
  },
  {
   "cell_type": "markdown",
   "metadata": {},
   "source": [
    "<font color=blue> Хороший способ автоматизации построения графиков. Все сделано правильно.\n",
    "    \n",
    "---\n"
   ]
  },
  {
   "cell_type": "markdown",
   "metadata": {},
   "source": [
    "Изучите время продажи квартиры"
   ]
  },
  {
   "cell_type": "code",
   "execution_count": 315,
   "metadata": {},
   "outputs": [
    {
     "name": "stdout",
     "output_type": "stream",
     "text": [
      "count    11988.000000\n",
      "mean       190.292793\n",
      "std        228.535724\n",
      "min          1.000000\n",
      "25%         45.000000\n",
      "50%        103.000000\n",
      "75%        247.000000\n",
      "max       1580.000000\n",
      "Name: days_exposition, dtype: float64\n",
      "Среднее время продажи 190.0\n",
      "Медиана времени продажи 103.0\n"
     ]
    },
    {
     "data": {
      "image/png": "[encoded data removed]",
      "text/plain": [
       "<Figure size 432x288 with 1 Axes>"
      ]
     },
     "metadata": {
      "needs_background": "light"
     },
     "output_type": "display_data"
    }
   ],
   "source": [
    "# оставим в таблице данных только проданные квартиры\n",
    "sold_housing = data.copy(deep=True) # копируем таблицу данных и далее можем работать с ней\n",
    "sold_housing_time = sold_housing.copy(deep=True) # для изучения времени продажи удалим ещё не проданные квартиры\n",
    "sold_housing_time.dropna(subset=['days_exposition'], inplace = True) \n",
    "# удаляем пропуски в days_exposition, т.е. строки с ещё не проданными квартирами\n",
    "sold_housing_time['days_exposition'] = sold_housing_time['days_exposition'].astype('int') # изменяем тип данных на целочисленный\n",
    "function_for_building_histograms(sold_housing_time['days_exposition'])\n",
    "print(data['days_exposition'].describe()) # числовое описание данных в столбце время продажи\n",
    "print('Среднее время продажи {}'.format(round(data['days_exposition'].mean(), 0)))\n",
    "print('Медиана времени продажи {}'.format(round(data['days_exposition'].median(), 0)))"
   ]
  },
  {
   "cell_type": "markdown",
   "metadata": {},
   "source": [
    "Обычно продажа квартиры занимает до 230 дней, но в основном в первые 3 месяца после публикации. Продажа квартиры произошла быстро, если время продажи не превышает 45 дней. Если продажа квартиры произошла спустя 230 дней, будем считать её долой."
   ]
  },
  {
   "cell_type": "markdown",
   "metadata": {},
   "source": [
    "---\n",
    "## Комментарий от наставника\n",
    "\n",
    "Здорово, что есть гипотезы о быстрых и долгих сделках.\n",
    "\n",
    "---"
   ]
  },
  {
   "cell_type": "markdown",
   "metadata": {},
   "source": [
    "Отбросим из таблицы выбивающиеся и редкие значения на основе данных о времени продажи"
   ]
  },
  {
   "cell_type": "code",
   "execution_count": 316,
   "metadata": {},
   "outputs": [
    {
     "name": "stdout",
     "output_type": "stream",
     "text": [
      "Для столбца: days_exposition следует отбросить значения ваше 550.0, как выбросы\n"
     ]
    },
    {
     "data": {
      "text/plain": [
       "(<matplotlib.axes._subplots.AxesSubplot at 0x7fa9ce198510>, None)"
      ]
     },
     "execution_count": 316,
     "metadata": {},
     "output_type": "execute_result"
    },
    {
     "data": {
      "image/png": "[encoded data removed]",
      "text/plain": [
       "<Figure size 432x288 with 1 Axes>"
      ]
     },
     "metadata": {
      "needs_background": "light"
     },
     "output_type": "display_data"
    }
   ],
   "source": [
    "# функция для постройки ящика с усами и выводу рекомендации по отброске выбросов\n",
    "def function_for_building_boxplot(data_set, column1):\n",
    "    Q1 = np.percentile(data_set[column1],25) # первый квантиль\n",
    "    Q3 = np.percentile(data_set[column1],75) # третий квантиль\n",
    "    IQR = Q3 - Q1 # межквартильный диапазон\n",
    "    max_value = round(Q3 + 2 * IQR) # # минимальное значение интервала построения графика\n",
    "    min_value = round(Q1 - 2 * IQR) # максимальное значение интервала построения графика\n",
    "    plt.ylim(-10,max_value)\n",
    "    return (data_set.boxplot(column = column1), \n",
    "            print('Для столбца:',column1,'следует отбросить значения ваше {}, как выбросы'.format(round(Q3 + 1.5 * IQR))))\n",
    "#sold_housing.boxplot(column='days_exposition') # отображение диаграммы ящика с усами\n",
    "#plt.ylim(-10, 553) # изменение осей графика\n",
    "function_for_building_boxplot(sold_housing_time, 'days_exposition')"
   ]
  },
  {
   "cell_type": "markdown",
   "metadata": {},
   "source": [
    "Проверим наличие выбросов в других столбцах"
   ]
  },
  {
   "cell_type": "markdown",
   "metadata": {},
   "source": [
    "проверим выбросы в столбце *last_price*"
   ]
  },
  {
   "cell_type": "code",
   "execution_count": 317,
   "metadata": {},
   "outputs": [
    {
     "name": "stdout",
     "output_type": "stream",
     "text": [
      "Для столбца: last_price следует отбросить значения ваше 12136604.0, как выбросы\n"
     ]
    },
    {
     "data": {
      "text/plain": [
       "(<matplotlib.axes._subplots.AxesSubplot at 0x7fa9ce0fb4d0>, None)"
      ]
     },
     "execution_count": 317,
     "metadata": {},
     "output_type": "execute_result"
    },
    {
     "data": {
      "image/png": "[encoded data removed]",
      "text/plain": [
       "<Figure size 432x288 with 1 Axes>"
      ]
     },
     "metadata": {
      "needs_background": "light"
     },
     "output_type": "display_data"
    }
   ],
   "source": [
    "function_for_building_boxplot(sold_housing, 'last_price')"
   ]
  },
  {
   "cell_type": "markdown",
   "metadata": {},
   "source": [
    "Аналогично поступим со столбцом общей жилой площади"
   ]
  },
  {
   "cell_type": "code",
   "execution_count": 318,
   "metadata": {},
   "outputs": [
    {
     "name": "stdout",
     "output_type": "stream",
     "text": [
      "Для столбца: total_area следует отбросить значения ваше 116.0, как выбросы\n"
     ]
    },
    {
     "data": {
      "text/plain": [
       "(<matplotlib.axes._subplots.AxesSubplot at 0x7fa9ce0e2190>, None)"
      ]
     },
     "execution_count": 318,
     "metadata": {},
     "output_type": "execute_result"
    },
    {
     "data": {
      "image/png": "[encoded data removed]",
      "text/plain": [
       "<Figure size 432x288 with 1 Axes>"
      ]
     },
     "metadata": {
      "needs_background": "light"
     },
     "output_type": "display_data"
    }
   ],
   "source": [
    "function_for_building_boxplot(sold_housing, 'total_area')"
   ]
  },
  {
   "cell_type": "markdown",
   "metadata": {},
   "source": [
    "Аналогично поступим со столбцом числа комнат"
   ]
  },
  {
   "cell_type": "code",
   "execution_count": 319,
   "metadata": {},
   "outputs": [
    {
     "name": "stdout",
     "output_type": "stream",
     "text": [
      "Для столбца: rooms следует отбросить значения ваше 6.0, как выбросы\n"
     ]
    },
    {
     "data": {
      "text/plain": [
       "(<matplotlib.axes._subplots.AxesSubplot at 0x7fa9ce05c450>, None)"
      ]
     },
     "execution_count": 319,
     "metadata": {},
     "output_type": "execute_result"
    },
    {
     "data": {
      "image/png": "[encoded data removed]",
      "text/plain": [
       "<Figure size 432x288 with 1 Axes>"
      ]
     },
     "metadata": {
      "needs_background": "light"
     },
     "output_type": "display_data"
    }
   ],
   "source": [
    "function_for_building_boxplot(sold_housing,'rooms')"
   ]
  },
  {
   "cell_type": "markdown",
   "metadata": {},
   "source": [
    "Проверять на выбросы столбец с высотой потолков не имеет смысла, так как ранее из него уже были удалены некорректные значения"
   ]
  },
  {
   "cell_type": "markdown",
   "metadata": {},
   "source": [
    "##### Отфильтруем таблицу данных от выбросов, основываясь на выше полученных результатах "
   ]
  },
  {
   "cell_type": "code",
   "execution_count": 320,
   "metadata": {},
   "outputs": [
    {
     "name": "stdout",
     "output_type": "stream",
     "text": [
      "<class 'pandas.core.frame.DataFrame'>\n",
      "Int64Index: 10088 entries, 1 to 14422\n",
      "Data columns (total 30 columns):\n",
      "total_images              10088 non-null int64\n",
      "last_price                10088 non-null int64\n",
      "total_area                10088 non-null float64\n",
      "first_day_exposition      10088 non-null datetime64[ns]\n",
      "rooms                     10088 non-null int64\n",
      "ceiling_height            10088 non-null float64\n",
      "floors_total              10088 non-null int64\n",
      "living_area               10088 non-null float64\n",
      "floor                     10088 non-null int64\n",
      "is_apartment              1272 non-null object\n",
      "studio                    10088 non-null bool\n",
      "open_plan                 10088 non-null bool\n",
      "kitchen_area              10088 non-null float64\n",
      "balcony                   5369 non-null float64\n",
      "locality_name             10088 non-null object\n",
      "airports_nearest          7942 non-null float64\n",
      "cityCenters_nearest       7951 non-null float64\n",
      "parks_around3000          7951 non-null float64\n",
      "parks_nearest             3340 non-null float64\n",
      "ponds_around3000          7951 non-null float64\n",
      "ponds_nearest             3718 non-null float64\n",
      "days_exposition           10088 non-null float64\n",
      "short_locality_name       10088 non-null object\n",
      "cost_per_square_meter     10088 non-null float64\n",
      "day_publication           10088 non-null int64\n",
      "month_publication         10088 non-null int64\n",
      "year_publication          10088 non-null int64\n",
      "category_floor_housing    10088 non-null object\n",
      "living/total_area         10088 non-null float64\n",
      "kitchen/total_area        10088 non-null float64\n",
      "dtypes: bool(2), datetime64[ns](1), float64(15), int64(8), object(4)\n",
      "memory usage: 2.3+ MB\n"
     ]
    }
   ],
   "source": [
    "sold_housing = sold_housing.query('(days_exposition <= 550) & (last_price <= 11500000) & (total_area <= 113) & (rooms <= 6)')\n",
    "sold_housing.info()"
   ]
  },
  {
   "cell_type": "code",
   "execution_count": 321,
   "metadata": {},
   "outputs": [
    {
     "data": {
      "text/plain": [
       "1    3777\n",
       "2    3626\n",
       "3    2254\n",
       "4     336\n",
       "0      66\n",
       "5      27\n",
       "6       2\n",
       "Name: rooms, dtype: int64"
      ]
     },
     "execution_count": 321,
     "metadata": {},
     "output_type": "execute_result"
    }
   ],
   "source": [
    "sold_housing['rooms'].value_counts()"
   ]
  },
  {
   "cell_type": "code",
   "execution_count": 322,
   "metadata": {},
   "outputs": [
    {
     "data": {
      "text/html": [
       "<div>\n",
       "<style scoped>\n",
       "    .dataframe tbody tr th:only-of-type {\n",
       "        vertical-align: middle;\n",
       "    }\n",
       "\n",
       "    .dataframe tbody tr th {\n",
       "        vertical-align: top;\n",
       "    }\n",
       "\n",
       "    .dataframe thead th {\n",
       "        text-align: right;\n",
       "    }\n",
       "</style>\n",
       "<table border=\"1\" class=\"dataframe\">\n",
       "  <thead>\n",
       "    <tr style=\"text-align: right;\">\n",
       "      <th></th>\n",
       "      <th>ceiling_height</th>\n",
       "      <th>days_exposition</th>\n",
       "      <th>last_price</th>\n",
       "      <th>total_area</th>\n",
       "    </tr>\n",
       "    <tr>\n",
       "      <th>rooms</th>\n",
       "      <th></th>\n",
       "      <th></th>\n",
       "      <th></th>\n",
       "      <th></th>\n",
       "    </tr>\n",
       "  </thead>\n",
       "  <tbody>\n",
       "    <tr>\n",
       "      <td>0</td>\n",
       "      <td>2.75</td>\n",
       "      <td>101.86</td>\n",
       "      <td>3007062.88</td>\n",
       "      <td>27.12</td>\n",
       "    </tr>\n",
       "    <tr>\n",
       "      <td>1</td>\n",
       "      <td>2.66</td>\n",
       "      <td>123.54</td>\n",
       "      <td>3780442.24</td>\n",
       "      <td>37.26</td>\n",
       "    </tr>\n",
       "    <tr>\n",
       "      <td>2</td>\n",
       "      <td>2.68</td>\n",
       "      <td>129.35</td>\n",
       "      <td>5042761.99</td>\n",
       "      <td>54.03</td>\n",
       "    </tr>\n",
       "    <tr>\n",
       "      <td>3</td>\n",
       "      <td>2.69</td>\n",
       "      <td>148.64</td>\n",
       "      <td>5971480.08</td>\n",
       "      <td>70.33</td>\n",
       "    </tr>\n",
       "    <tr>\n",
       "      <td>4</td>\n",
       "      <td>2.77</td>\n",
       "      <td>152.43</td>\n",
       "      <td>6678754.63</td>\n",
       "      <td>81.23</td>\n",
       "    </tr>\n",
       "    <tr>\n",
       "      <td>5</td>\n",
       "      <td>2.95</td>\n",
       "      <td>212.93</td>\n",
       "      <td>7628518.52</td>\n",
       "      <td>94.12</td>\n",
       "    </tr>\n",
       "    <tr>\n",
       "      <td>6</td>\n",
       "      <td>2.62</td>\n",
       "      <td>36.50</td>\n",
       "      <td>7982000.00</td>\n",
       "      <td>103.00</td>\n",
       "    </tr>\n",
       "  </tbody>\n",
       "</table>\n",
       "</div>"
      ],
      "text/plain": [
       "       ceiling_height  days_exposition  last_price  total_area\n",
       "rooms                                                         \n",
       "0                2.75           101.86  3007062.88       27.12\n",
       "1                2.66           123.54  3780442.24       37.26\n",
       "2                2.68           129.35  5042761.99       54.03\n",
       "3                2.69           148.64  5971480.08       70.33\n",
       "4                2.77           152.43  6678754.63       81.23\n",
       "5                2.95           212.93  7628518.52       94.12\n",
       "6                2.62            36.50  7982000.00      103.00"
      ]
     },
     "execution_count": 322,
     "metadata": {},
     "output_type": "execute_result"
    }
   ],
   "source": [
    "rooms_pivot_new = round(sold_housing.pivot_table(index = 'rooms', \n",
    "                                     values = ['total_area','last_price','ceiling_height','days_exposition']), 2)\n",
    "rooms_pivot_new"
   ]
  },
  {
   "cell_type": "markdown",
   "metadata": {},
   "source": [
    "После удаления выбросов видно, что квартиры с большим числом комнат также продаются довольно быстро как и квартиры с числом комнат до 3 (меньше года)"
   ]
  },
  {
   "cell_type": "markdown",
   "metadata": {},
   "source": [
    "---\n",
    "## Комментарий от наставника\n",
    "\n",
    "Выбросы есть и в других столбцах. Их тоже надо удалить из данных. Делай это также на основании графика boxplot. Попробуй автоматизировать и этот процесс. \n",
    "\n",
    "---\n",
    "#### Ответ на комментарий\n",
    "выбросы в остальных столбцах удалены. Написана функция, которая возвращает ящик с усами и рекомендацию по удалению выбросов."
   ]
  },
  {
   "cell_type": "markdown",
   "metadata": {},
   "source": [
    "Изучим, зависимость цены от обей площади, числа комнат, этажа, удалённости от центра. Отдельно посмотрим на зависимость цены от этажа по категориям перавый, последний."
   ]
  },
  {
   "cell_type": "code",
   "execution_count": 323,
   "metadata": {},
   "outputs": [
    {
     "name": "stdout",
     "output_type": "stream",
     "text": [
      "<class 'pandas.core.frame.DataFrame'>\n",
      "Int64Index: 10088 entries, 1 to 14422\n",
      "Data columns (total 6 columns):\n",
      "last_price                10088 non-null int64\n",
      "total_area                10088 non-null float64\n",
      "rooms                     10088 non-null int64\n",
      "floor                     10088 non-null int64\n",
      "cityCenters_nearest       7951 non-null float64\n",
      "category_floor_housing    10088 non-null object\n",
      "dtypes: float64(2), int64(3), object(1)\n",
      "memory usage: 551.7+ KB\n",
      "None\n"
     ]
    },
    {
     "data": {
      "text/html": [
       "<div>\n",
       "<style scoped>\n",
       "    .dataframe tbody tr th:only-of-type {\n",
       "        vertical-align: middle;\n",
       "    }\n",
       "\n",
       "    .dataframe tbody tr th {\n",
       "        vertical-align: top;\n",
       "    }\n",
       "\n",
       "    .dataframe thead th {\n",
       "        text-align: right;\n",
       "    }\n",
       "</style>\n",
       "<table border=\"1\" class=\"dataframe\">\n",
       "  <thead>\n",
       "    <tr style=\"text-align: right;\">\n",
       "      <th></th>\n",
       "      <th>last_price</th>\n",
       "      <th>total_area</th>\n",
       "      <th>rooms</th>\n",
       "      <th>floor</th>\n",
       "      <th>cityCenters_nearest</th>\n",
       "      <th>category_floor_housing</th>\n",
       "    </tr>\n",
       "  </thead>\n",
       "  <tbody>\n",
       "    <tr>\n",
       "      <td>1</td>\n",
       "      <td>10000000</td>\n",
       "      <td>100.0</td>\n",
       "      <td>2</td>\n",
       "      <td>13</td>\n",
       "      <td>8098.0</td>\n",
       "      <td>другой</td>\n",
       "    </tr>\n",
       "    <tr>\n",
       "      <td>2</td>\n",
       "      <td>5400000</td>\n",
       "      <td>61.0</td>\n",
       "      <td>3</td>\n",
       "      <td>7</td>\n",
       "      <td>15008.0</td>\n",
       "      <td>другой</td>\n",
       "    </tr>\n",
       "    <tr>\n",
       "      <td>3</td>\n",
       "      <td>5050000</td>\n",
       "      <td>39.6</td>\n",
       "      <td>1</td>\n",
       "      <td>3</td>\n",
       "      <td>13878.0</td>\n",
       "      <td>другой</td>\n",
       "    </tr>\n",
       "    <tr>\n",
       "      <td>4</td>\n",
       "      <td>3550000</td>\n",
       "      <td>42.8</td>\n",
       "      <td>2</td>\n",
       "      <td>5</td>\n",
       "      <td>33058.0</td>\n",
       "      <td>последний</td>\n",
       "    </tr>\n",
       "    <tr>\n",
       "      <td>5</td>\n",
       "      <td>6700000</td>\n",
       "      <td>82.0</td>\n",
       "      <td>3</td>\n",
       "      <td>1</td>\n",
       "      <td>10698.0</td>\n",
       "      <td>первый</td>\n",
       "    </tr>\n",
       "    <tr>\n",
       "      <td>...</td>\n",
       "      <td>...</td>\n",
       "      <td>...</td>\n",
       "      <td>...</td>\n",
       "      <td>...</td>\n",
       "      <td>...</td>\n",
       "      <td>...</td>\n",
       "    </tr>\n",
       "    <tr>\n",
       "      <td>14418</td>\n",
       "      <td>3300000</td>\n",
       "      <td>31.0</td>\n",
       "      <td>1</td>\n",
       "      <td>6</td>\n",
       "      <td>11602.0</td>\n",
       "      <td>другой</td>\n",
       "    </tr>\n",
       "    <tr>\n",
       "      <td>14419</td>\n",
       "      <td>9200000</td>\n",
       "      <td>101.0</td>\n",
       "      <td>3</td>\n",
       "      <td>12</td>\n",
       "      <td>14428.0</td>\n",
       "      <td>другой</td>\n",
       "    </tr>\n",
       "    <tr>\n",
       "      <td>14420</td>\n",
       "      <td>3550000</td>\n",
       "      <td>35.3</td>\n",
       "      <td>1</td>\n",
       "      <td>4</td>\n",
       "      <td>16081.0</td>\n",
       "      <td>другой</td>\n",
       "    </tr>\n",
       "    <tr>\n",
       "      <td>14421</td>\n",
       "      <td>9470000</td>\n",
       "      <td>72.9</td>\n",
       "      <td>2</td>\n",
       "      <td>7</td>\n",
       "      <td>4489.0</td>\n",
       "      <td>другой</td>\n",
       "    </tr>\n",
       "    <tr>\n",
       "      <td>14422</td>\n",
       "      <td>4600000</td>\n",
       "      <td>62.4</td>\n",
       "      <td>3</td>\n",
       "      <td>8</td>\n",
       "      <td>34104.0</td>\n",
       "      <td>другой</td>\n",
       "    </tr>\n",
       "  </tbody>\n",
       "</table>\n",
       "<p>10088 rows × 6 columns</p>\n",
       "</div>"
      ],
      "text/plain": [
       "       last_price  total_area  rooms  floor  cityCenters_nearest  \\\n",
       "1        10000000       100.0      2     13               8098.0   \n",
       "2         5400000        61.0      3      7              15008.0   \n",
       "3         5050000        39.6      1      3              13878.0   \n",
       "4         3550000        42.8      2      5              33058.0   \n",
       "5         6700000        82.0      3      1              10698.0   \n",
       "...           ...         ...    ...    ...                  ...   \n",
       "14418     3300000        31.0      1      6              11602.0   \n",
       "14419     9200000       101.0      3     12              14428.0   \n",
       "14420     3550000        35.3      1      4              16081.0   \n",
       "14421     9470000        72.9      2      7               4489.0   \n",
       "14422     4600000        62.4      3      8              34104.0   \n",
       "\n",
       "      category_floor_housing  \n",
       "1                     другой  \n",
       "2                     другой  \n",
       "3                     другой  \n",
       "4                  последний  \n",
       "5                     первый  \n",
       "...                      ...  \n",
       "14418                 другой  \n",
       "14419                 другой  \n",
       "14420                 другой  \n",
       "14421                 другой  \n",
       "14422                 другой  \n",
       "\n",
       "[10088 rows x 6 columns]"
      ]
     },
     "execution_count": 323,
     "metadata": {},
     "output_type": "execute_result"
    }
   ],
   "source": [
    "# создадим таблицу данных для исследования зависимости цены квартиры от её параметров\n",
    "data1 = data.query('(days_exposition <= 550) & (last_price <= 11500000) & (total_area <= 113) & (rooms <= 6)').copy(deep=True)\n",
    "analysis_price_parameters = data1.iloc[:, [1,2,4,8,16,27]].copy(deep=True)\n",
    "analysis_price_parameters['last_price'] = analysis_price_parameters['last_price'].astype('int')\n",
    "print(analysis_price_parameters.info())\n",
    "analysis_price_parameters"
   ]
  },
  {
   "cell_type": "code",
   "execution_count": 324,
   "metadata": {},
   "outputs": [
    {
     "data": {
      "text/html": [
       "<div>\n",
       "<style scoped>\n",
       "    .dataframe tbody tr th:only-of-type {\n",
       "        vertical-align: middle;\n",
       "    }\n",
       "\n",
       "    .dataframe tbody tr th {\n",
       "        vertical-align: top;\n",
       "    }\n",
       "\n",
       "    .dataframe thead th {\n",
       "        text-align: right;\n",
       "    }\n",
       "</style>\n",
       "<table border=\"1\" class=\"dataframe\">\n",
       "  <thead>\n",
       "    <tr style=\"text-align: right;\">\n",
       "      <th></th>\n",
       "      <th>last_price</th>\n",
       "      <th>total_area</th>\n",
       "      <th>rooms</th>\n",
       "      <th>floor</th>\n",
       "      <th>cityCenters_nearest</th>\n",
       "    </tr>\n",
       "  </thead>\n",
       "  <tbody>\n",
       "    <tr>\n",
       "      <td>last_price</td>\n",
       "      <td>1.000000</td>\n",
       "      <td>0.703062</td>\n",
       "      <td>0.448195</td>\n",
       "      <td>0.144217</td>\n",
       "      <td>-0.340643</td>\n",
       "    </tr>\n",
       "    <tr>\n",
       "      <td>total_area</td>\n",
       "      <td>0.703062</td>\n",
       "      <td>1.000000</td>\n",
       "      <td>0.806465</td>\n",
       "      <td>-0.026982</td>\n",
       "      <td>-0.124417</td>\n",
       "    </tr>\n",
       "    <tr>\n",
       "      <td>rooms</td>\n",
       "      <td>0.448195</td>\n",
       "      <td>0.806465</td>\n",
       "      <td>1.000000</td>\n",
       "      <td>-0.180704</td>\n",
       "      <td>-0.075295</td>\n",
       "    </tr>\n",
       "    <tr>\n",
       "      <td>floor</td>\n",
       "      <td>0.144217</td>\n",
       "      <td>-0.026982</td>\n",
       "      <td>-0.180704</td>\n",
       "      <td>1.000000</td>\n",
       "      <td>-0.026170</td>\n",
       "    </tr>\n",
       "    <tr>\n",
       "      <td>cityCenters_nearest</td>\n",
       "      <td>-0.340643</td>\n",
       "      <td>-0.124417</td>\n",
       "      <td>-0.075295</td>\n",
       "      <td>-0.026170</td>\n",
       "      <td>1.000000</td>\n",
       "    </tr>\n",
       "  </tbody>\n",
       "</table>\n",
       "</div>"
      ],
      "text/plain": [
       "                     last_price  total_area     rooms     floor  \\\n",
       "last_price             1.000000    0.703062  0.448195  0.144217   \n",
       "total_area             0.703062    1.000000  0.806465 -0.026982   \n",
       "rooms                  0.448195    0.806465  1.000000 -0.180704   \n",
       "floor                  0.144217   -0.026982 -0.180704  1.000000   \n",
       "cityCenters_nearest   -0.340643   -0.124417 -0.075295 -0.026170   \n",
       "\n",
       "                     cityCenters_nearest  \n",
       "last_price                     -0.340643  \n",
       "total_area                     -0.124417  \n",
       "rooms                          -0.075295  \n",
       "floor                          -0.026170  \n",
       "cityCenters_nearest             1.000000  "
      ]
     },
     "execution_count": 324,
     "metadata": {},
     "output_type": "execute_result"
    }
   ],
   "source": [
    "analysis_price_parameters.corr() # посмотрим на таблицу коэффициентов корреляции Пирсона"
   ]
  },
  {
   "cell_type": "markdown",
   "metadata": {},
   "source": [
    "Надлюдаем слабую зависимость цены квартиры лишь от одного параметра - общая площадь. В остальных случаях зависимость практически отсутствует. Отметим, что практически отсутствует отрицательная корреляция цены с удалённостью от центра (чем ближе к центру города, тем дороже). В центре города находятся административные здания и коммерческая недвижимость. Посмотрим на корреляцию цены от метража квартиры на графике."
   ]
  },
  {
   "cell_type": "markdown",
   "metadata": {},
   "source": [
    "---\n",
    "## Комментарий от наставника\n",
    "\n",
    "Верно, найдены основные параметры, от которых зависит цена.\n",
    "\n",
    "---"
   ]
  },
  {
   "cell_type": "code",
   "execution_count": 325,
   "metadata": {},
   "outputs": [
    {
     "data": {
      "text/plain": [
       "(0, 100)"
      ]
     },
     "execution_count": 325,
     "metadata": {},
     "output_type": "execute_result"
    },
    {
     "data": {
      "image/png": "[encoded data removed]",
      "text/plain": [
       "<Figure size 648x648 with 2 Axes>"
      ]
     },
     "metadata": {
      "needs_background": "light"
     },
     "output_type": "display_data"
    }
   ],
   "source": [
    "price_from_total_area = analysis_price_parameters.iloc[:, [0,1]].copy(deep=True)\n",
    "price_from_total_area.plot(x='total_area', y='last_price', kind='hexbin', \n",
    "                           gridsize=50, figsize=(9, 9), sharex=False, grid=True)\n",
    "plt.ylim(0, 1e7)\n",
    "plt.xlim(0, 100)"
   ]
  },
  {
   "cell_type": "markdown",
   "metadata": {},
   "source": [
    "Из графика видно, что в основном продают и покупают квартиры с площадью от 30 до 50 квадратных метров (основной семент рынка) и ценой от 2 до 5 миллионов рублей. Видна положительная корреляция цены и общего метража квартиры."
   ]
  },
  {
   "cell_type": "markdown",
   "metadata": {},
   "source": [
    "Влияет ли на цену квартиры её расположение в здании (первый этаж или последний этаж)? Для этого сравним медианную цену квартир на первом этаже со средней ценой квартиры на последнем этаже:"
   ]
  },
  {
   "cell_type": "code",
   "execution_count": 326,
   "metadata": {},
   "outputs": [
    {
     "data": {
      "text/plain": [
       "category_floor_housing\n",
       "другой       4600000\n",
       "первый       3850000\n",
       "последний    4160000\n",
       "Name: last_price, dtype: int64"
      ]
     },
     "execution_count": 326,
     "metadata": {},
     "output_type": "execute_result"
    }
   ],
   "source": [
    "# сгруппируем по категории расположения квартир на этаже и посчитаем меиану\n",
    "price_from_category_floor_housing = analysis_price_parameters.groupby('category_floor_housing')['last_price'].median()\n",
    "price_from_category_floor_housing"
   ]
  },
  {
   "cell_type": "markdown",
   "metadata": {},
   "source": [
    "Квартиры на первом этаже оказались дешевле квартир на последнем этаже. Квартиры, которые расположены не на первом и не на последнем этаже имеют более высокую цену."
   ]
  },
  {
   "cell_type": "markdown",
   "metadata": {},
   "source": [
    "Изучим зависимость цены квартир от даты размещения: дня недели, месяца и года."
   ]
  },
  {
   "cell_type": "code",
   "execution_count": 327,
   "metadata": {},
   "outputs": [
    {
     "name": "stdout",
     "output_type": "stream",
     "text": [
      "<class 'pandas.core.frame.DataFrame'>\n",
      "RangeIndex: 14426 entries, 0 to 14425\n",
      "Data columns (total 4 columns):\n",
      "last_price           14426 non-null int64\n",
      "day_publication      14426 non-null int64\n",
      "month_publication    14426 non-null int64\n",
      "year_publication     14426 non-null int64\n",
      "dtypes: int64(4)\n",
      "memory usage: 450.9 KB\n",
      "None\n"
     ]
    },
    {
     "data": {
      "text/html": [
       "<div>\n",
       "<style scoped>\n",
       "    .dataframe tbody tr th:only-of-type {\n",
       "        vertical-align: middle;\n",
       "    }\n",
       "\n",
       "    .dataframe tbody tr th {\n",
       "        vertical-align: top;\n",
       "    }\n",
       "\n",
       "    .dataframe thead th {\n",
       "        text-align: right;\n",
       "    }\n",
       "</style>\n",
       "<table border=\"1\" class=\"dataframe\">\n",
       "  <thead>\n",
       "    <tr style=\"text-align: right;\">\n",
       "      <th></th>\n",
       "      <th>last_price</th>\n",
       "      <th>day_publication</th>\n",
       "      <th>month_publication</th>\n",
       "      <th>year_publication</th>\n",
       "    </tr>\n",
       "  </thead>\n",
       "  <tbody>\n",
       "    <tr>\n",
       "      <td>0</td>\n",
       "      <td>13000000</td>\n",
       "      <td>3</td>\n",
       "      <td>3</td>\n",
       "      <td>2019</td>\n",
       "    </tr>\n",
       "    <tr>\n",
       "      <td>1</td>\n",
       "      <td>10000000</td>\n",
       "      <td>1</td>\n",
       "      <td>6</td>\n",
       "      <td>2018</td>\n",
       "    </tr>\n",
       "    <tr>\n",
       "      <td>2</td>\n",
       "      <td>5400000</td>\n",
       "      <td>6</td>\n",
       "      <td>2</td>\n",
       "      <td>2017</td>\n",
       "    </tr>\n",
       "    <tr>\n",
       "      <td>3</td>\n",
       "      <td>5050000</td>\n",
       "      <td>3</td>\n",
       "      <td>11</td>\n",
       "      <td>2017</td>\n",
       "    </tr>\n",
       "    <tr>\n",
       "      <td>4</td>\n",
       "      <td>3550000</td>\n",
       "      <td>5</td>\n",
       "      <td>7</td>\n",
       "      <td>2017</td>\n",
       "    </tr>\n",
       "    <tr>\n",
       "      <td>...</td>\n",
       "      <td>...</td>\n",
       "      <td>...</td>\n",
       "      <td>...</td>\n",
       "      <td>...</td>\n",
       "    </tr>\n",
       "    <tr>\n",
       "      <td>14421</td>\n",
       "      <td>9470000</td>\n",
       "      <td>3</td>\n",
       "      <td>10</td>\n",
       "      <td>2016</td>\n",
       "    </tr>\n",
       "    <tr>\n",
       "      <td>14422</td>\n",
       "      <td>4600000</td>\n",
       "      <td>4</td>\n",
       "      <td>8</td>\n",
       "      <td>2016</td>\n",
       "    </tr>\n",
       "    <tr>\n",
       "      <td>14423</td>\n",
       "      <td>9700000</td>\n",
       "      <td>1</td>\n",
       "      <td>3</td>\n",
       "      <td>2017</td>\n",
       "    </tr>\n",
       "    <tr>\n",
       "      <td>14424</td>\n",
       "      <td>11475000</td>\n",
       "      <td>1</td>\n",
       "      <td>3</td>\n",
       "      <td>2017</td>\n",
       "    </tr>\n",
       "    <tr>\n",
       "      <td>14425</td>\n",
       "      <td>1350000</td>\n",
       "      <td>4</td>\n",
       "      <td>7</td>\n",
       "      <td>2017</td>\n",
       "    </tr>\n",
       "  </tbody>\n",
       "</table>\n",
       "<p>14426 rows × 4 columns</p>\n",
       "</div>"
      ],
      "text/plain": [
       "       last_price  day_publication  month_publication  year_publication\n",
       "0        13000000                3                  3              2019\n",
       "1        10000000                1                  6              2018\n",
       "2         5400000                6                  2              2017\n",
       "3         5050000                3                 11              2017\n",
       "4         3550000                5                  7              2017\n",
       "...           ...              ...                ...               ...\n",
       "14421     9470000                3                 10              2016\n",
       "14422     4600000                4                  8              2016\n",
       "14423     9700000                1                  3              2017\n",
       "14424    11475000                1                  3              2017\n",
       "14425     1350000                4                  7              2017\n",
       "\n",
       "[14426 rows x 4 columns]"
      ]
     },
     "execution_count": 327,
     "metadata": {},
     "output_type": "execute_result"
    }
   ],
   "source": [
    "analysis_date_publication = data.iloc[:, [1,24,25,26]].copy(deep=True) #выберим из исходной таблицы нужные столбцы\n",
    "print(analysis_date_publication.info())\n",
    "analysis_date_publication"
   ]
  },
  {
   "cell_type": "code",
   "execution_count": 328,
   "metadata": {},
   "outputs": [
    {
     "data": {
      "text/html": [
       "<div>\n",
       "<style scoped>\n",
       "    .dataframe tbody tr th:only-of-type {\n",
       "        vertical-align: middle;\n",
       "    }\n",
       "\n",
       "    .dataframe tbody tr th {\n",
       "        vertical-align: top;\n",
       "    }\n",
       "\n",
       "    .dataframe thead th {\n",
       "        text-align: right;\n",
       "    }\n",
       "</style>\n",
       "<table border=\"1\" class=\"dataframe\">\n",
       "  <thead>\n",
       "    <tr style=\"text-align: right;\">\n",
       "      <th></th>\n",
       "      <th>last_price</th>\n",
       "      <th>day_publication</th>\n",
       "      <th>month_publication</th>\n",
       "      <th>year_publication</th>\n",
       "    </tr>\n",
       "  </thead>\n",
       "  <tbody>\n",
       "    <tr>\n",
       "      <td>last_price</td>\n",
       "      <td>1.000000</td>\n",
       "      <td>-0.016827</td>\n",
       "      <td>0.002804</td>\n",
       "      <td>-0.052382</td>\n",
       "    </tr>\n",
       "    <tr>\n",
       "      <td>day_publication</td>\n",
       "      <td>-0.016827</td>\n",
       "      <td>1.000000</td>\n",
       "      <td>-0.007203</td>\n",
       "      <td>-0.002790</td>\n",
       "    </tr>\n",
       "    <tr>\n",
       "      <td>month_publication</td>\n",
       "      <td>0.002804</td>\n",
       "      <td>-0.007203</td>\n",
       "      <td>1.000000</td>\n",
       "      <td>-0.301686</td>\n",
       "    </tr>\n",
       "    <tr>\n",
       "      <td>year_publication</td>\n",
       "      <td>-0.052382</td>\n",
       "      <td>-0.002790</td>\n",
       "      <td>-0.301686</td>\n",
       "      <td>1.000000</td>\n",
       "    </tr>\n",
       "  </tbody>\n",
       "</table>\n",
       "</div>"
      ],
      "text/plain": [
       "                   last_price  day_publication  month_publication  \\\n",
       "last_price           1.000000        -0.016827           0.002804   \n",
       "day_publication     -0.016827         1.000000          -0.007203   \n",
       "month_publication    0.002804        -0.007203           1.000000   \n",
       "year_publication    -0.052382        -0.002790          -0.301686   \n",
       "\n",
       "                   year_publication  \n",
       "last_price                -0.052382  \n",
       "day_publication           -0.002790  \n",
       "month_publication         -0.301686  \n",
       "year_publication           1.000000  "
      ]
     },
     "execution_count": 328,
     "metadata": {},
     "output_type": "execute_result"
    },
    {
     "data": {
      "image/png": "[encoded data removed]",
      "text/plain": [
       "<Figure size 1080x1080 with 16 Axes>"
      ]
     },
     "metadata": {
      "needs_background": "light"
     },
     "output_type": "display_data"
    }
   ],
   "source": [
    "pd.plotting.scatter_matrix(analysis_date_publication, figsize=(15, 15)) # построим матрицу рассеяния\n",
    "analysis_date_publication.corr() # посмотрим коэффициенты корреляции Пирсона"
   ]
  },
  {
   "cell_type": "markdown",
   "metadata": {},
   "source": [
    "---\n",
    "## Комментарий от наставника\n",
    "\n",
    "Это также является одним из способов автоматизации процесса построения графиков.\n",
    "\n",
    "---"
   ]
  },
  {
   "cell_type": "markdown",
   "metadata": {},
   "source": [
    "Коэффициенты Пирсона близки к нулю, следовательно цены на квартиры не зависят от даты публикации объявлений, несмотря на то, что с 2014 по 2018 год росло число публикаций объявлений о продаже квартир. Обявления в основном публикуют в рабочие дни, а в году пик числа публикаций объявлений о продаже квартир приходится на начало года и конец года. "
   ]
  },
  {
   "cell_type": "code",
   "execution_count": 329,
   "metadata": {},
   "outputs": [
    {
     "data": {
      "text/html": [
       "<div>\n",
       "<style scoped>\n",
       "    .dataframe tbody tr th:only-of-type {\n",
       "        vertical-align: middle;\n",
       "    }\n",
       "\n",
       "    .dataframe tbody tr th {\n",
       "        vertical-align: top;\n",
       "    }\n",
       "\n",
       "    .dataframe thead tr th {\n",
       "        text-align: left;\n",
       "    }\n",
       "\n",
       "    .dataframe thead tr:last-of-type th {\n",
       "        text-align: right;\n",
       "    }\n",
       "</style>\n",
       "<table border=\"1\" class=\"dataframe\">\n",
       "  <thead>\n",
       "    <tr>\n",
       "      <th></th>\n",
       "      <th>count</th>\n",
       "      <th>mean</th>\n",
       "    </tr>\n",
       "    <tr>\n",
       "      <th></th>\n",
       "      <th>cost_per_square_meter</th>\n",
       "      <th>cost_per_square_meter</th>\n",
       "    </tr>\n",
       "    <tr>\n",
       "      <th>short_locality_name</th>\n",
       "      <th></th>\n",
       "      <th></th>\n",
       "    </tr>\n",
       "  </thead>\n",
       "  <tbody>\n",
       "    <tr>\n",
       "      <td>Санкт-Петербург</td>\n",
       "      <td>10057</td>\n",
       "      <td>115455.0</td>\n",
       "    </tr>\n",
       "    <tr>\n",
       "      <td>Всеволожск</td>\n",
       "      <td>271</td>\n",
       "      <td>67435.0</td>\n",
       "    </tr>\n",
       "    <tr>\n",
       "      <td>Пушкин</td>\n",
       "      <td>234</td>\n",
       "      <td>103920.0</td>\n",
       "    </tr>\n",
       "    <tr>\n",
       "      <td>Мурино</td>\n",
       "      <td>226</td>\n",
       "      <td>87773.0</td>\n",
       "    </tr>\n",
       "    <tr>\n",
       "      <td>Шушары</td>\n",
       "      <td>217</td>\n",
       "      <td>79539.0</td>\n",
       "    </tr>\n",
       "    <tr>\n",
       "      <td>Колпино</td>\n",
       "      <td>203</td>\n",
       "      <td>75938.0</td>\n",
       "    </tr>\n",
       "    <tr>\n",
       "      <td>Кудрово</td>\n",
       "      <td>194</td>\n",
       "      <td>96106.0</td>\n",
       "    </tr>\n",
       "    <tr>\n",
       "      <td>Гатчина</td>\n",
       "      <td>148</td>\n",
       "      <td>70025.0</td>\n",
       "    </tr>\n",
       "    <tr>\n",
       "      <td>Петергоф</td>\n",
       "      <td>145</td>\n",
       "      <td>85554.0</td>\n",
       "    </tr>\n",
       "    <tr>\n",
       "      <td>Парголово</td>\n",
       "      <td>137</td>\n",
       "      <td>90902.0</td>\n",
       "    </tr>\n",
       "  </tbody>\n",
       "</table>\n",
       "</div>"
      ],
      "text/plain": [
       "                                    count                  mean\n",
       "                    cost_per_square_meter cost_per_square_meter\n",
       "short_locality_name                                            \n",
       "Санкт-Петербург                     10057              115455.0\n",
       "Всеволожск                            271               67435.0\n",
       "Пушкин                                234              103920.0\n",
       "Мурино                                226               87773.0\n",
       "Шушары                                217               79539.0\n",
       "Колпино                               203               75938.0\n",
       "Кудрово                               194               96106.0\n",
       "Гатчина                               148               70025.0\n",
       "Петергоф                              145               85554.0\n",
       "Парголово                             137               90902.0"
      ]
     },
     "execution_count": 329,
     "metadata": {},
     "output_type": "execute_result"
    }
   ],
   "source": [
    "data = data.query('short_locality_name != \"nan\"') # отфильтруем таблицу от значений с неизвестным местом публикации\n",
    "# создадим сводную таблицу по городам, и посчитаем число объявлений в них и среднюю стоимость одного квадратного метра\n",
    "top_city = data.pivot_table(index = 'short_locality_name', values = 'cost_per_square_meter',\n",
    "                    aggfunc = ['count', 'mean'])\n",
    "# отсортируем сводную таблицу по убыванию числа объявлений по городам\n",
    "top_city = top_city.sort_values(('count','cost_per_square_meter'),ascending = False)\n",
    "# для удобства восприятия, округлим значения в столбце стоимости одного квадратного метра до целых\n",
    "top_city['mean','cost_per_square_meter'] = round(top_city['mean','cost_per_square_meter'],0)\n",
    "# выведим список топ-10 городов по числу объявлений\n",
    "top_city.head(10)"
   ]
  },
  {
   "cell_type": "code",
   "execution_count": 330,
   "metadata": {},
   "outputs": [
    {
     "data": {
      "text/html": [
       "<div>\n",
       "<style scoped>\n",
       "    .dataframe tbody tr th:only-of-type {\n",
       "        vertical-align: middle;\n",
       "    }\n",
       "\n",
       "    .dataframe tbody tr th {\n",
       "        vertical-align: top;\n",
       "    }\n",
       "\n",
       "    .dataframe thead tr th {\n",
       "        text-align: left;\n",
       "    }\n",
       "\n",
       "    .dataframe thead tr:last-of-type th {\n",
       "        text-align: right;\n",
       "    }\n",
       "</style>\n",
       "<table border=\"1\" class=\"dataframe\">\n",
       "  <thead>\n",
       "    <tr>\n",
       "      <th></th>\n",
       "      <th>count</th>\n",
       "      <th>mean</th>\n",
       "    </tr>\n",
       "    <tr>\n",
       "      <th></th>\n",
       "      <th>cost_per_square_meter</th>\n",
       "      <th>cost_per_square_meter</th>\n",
       "    </tr>\n",
       "    <tr>\n",
       "      <th>short_locality_name</th>\n",
       "      <th></th>\n",
       "      <th></th>\n",
       "    </tr>\n",
       "  </thead>\n",
       "  <tbody>\n",
       "    <tr>\n",
       "      <td>Санкт-Петербург</td>\n",
       "      <td>10057</td>\n",
       "      <td>115455.0</td>\n",
       "    </tr>\n",
       "    <tr>\n",
       "      <td>Зеленогорск</td>\n",
       "      <td>19</td>\n",
       "      <td>113036.0</td>\n",
       "    </tr>\n",
       "    <tr>\n",
       "      <td>Мистолово</td>\n",
       "      <td>3</td>\n",
       "      <td>107123.0</td>\n",
       "    </tr>\n",
       "    <tr>\n",
       "      <td>Бор</td>\n",
       "      <td>1</td>\n",
       "      <td>105540.0</td>\n",
       "    </tr>\n",
       "    <tr>\n",
       "      <td>Репино</td>\n",
       "      <td>4</td>\n",
       "      <td>104240.0</td>\n",
       "    </tr>\n",
       "    <tr>\n",
       "      <td>Пушкин</td>\n",
       "      <td>234</td>\n",
       "      <td>103920.0</td>\n",
       "    </tr>\n",
       "    <tr>\n",
       "      <td>Сестрорецк</td>\n",
       "      <td>129</td>\n",
       "      <td>102267.0</td>\n",
       "    </tr>\n",
       "    <tr>\n",
       "      <td>Кудрово</td>\n",
       "      <td>194</td>\n",
       "      <td>96106.0</td>\n",
       "    </tr>\n",
       "    <tr>\n",
       "      <td>Стрельна</td>\n",
       "      <td>26</td>\n",
       "      <td>91006.0</td>\n",
       "    </tr>\n",
       "    <tr>\n",
       "      <td>Парголово</td>\n",
       "      <td>137</td>\n",
       "      <td>90902.0</td>\n",
       "    </tr>\n",
       "  </tbody>\n",
       "</table>\n",
       "</div>"
      ],
      "text/plain": [
       "                                    count                  mean\n",
       "                    cost_per_square_meter cost_per_square_meter\n",
       "short_locality_name                                            \n",
       "Санкт-Петербург                     10057              115455.0\n",
       "Зеленогорск                            19              113036.0\n",
       "Мистолово                               3              107123.0\n",
       "Бор                                     1              105540.0\n",
       "Репино                                  4              104240.0\n",
       "Пушкин                                234              103920.0\n",
       "Сестрорецк                            129              102267.0\n",
       "Кудрово                               194               96106.0\n",
       "Стрельна                               26               91006.0\n",
       "Парголово                             137               90902.0"
      ]
     },
     "execution_count": 330,
     "metadata": {},
     "output_type": "execute_result"
    }
   ],
   "source": [
    "# топ-10 населённых пунктов с самой дорогой недвижимостью\n",
    "top_city = top_city.sort_values(('mean','cost_per_square_meter'),ascending = False)\n",
    "top_city.head(10)"
   ]
  },
  {
   "cell_type": "code",
   "execution_count": 331,
   "metadata": {},
   "outputs": [
    {
     "data": {
      "text/html": [
       "<div>\n",
       "<style scoped>\n",
       "    .dataframe tbody tr th:only-of-type {\n",
       "        vertical-align: middle;\n",
       "    }\n",
       "\n",
       "    .dataframe tbody tr th {\n",
       "        vertical-align: top;\n",
       "    }\n",
       "\n",
       "    .dataframe thead tr th {\n",
       "        text-align: left;\n",
       "    }\n",
       "\n",
       "    .dataframe thead tr:last-of-type th {\n",
       "        text-align: right;\n",
       "    }\n",
       "</style>\n",
       "<table border=\"1\" class=\"dataframe\">\n",
       "  <thead>\n",
       "    <tr>\n",
       "      <th></th>\n",
       "      <th>count</th>\n",
       "      <th>mean</th>\n",
       "    </tr>\n",
       "    <tr>\n",
       "      <th></th>\n",
       "      <th>cost_per_square_meter</th>\n",
       "      <th>cost_per_square_meter</th>\n",
       "    </tr>\n",
       "    <tr>\n",
       "      <th>short_locality_name</th>\n",
       "      <th></th>\n",
       "      <th></th>\n",
       "    </tr>\n",
       "  </thead>\n",
       "  <tbody>\n",
       "    <tr>\n",
       "      <td>Кара Вахнова</td>\n",
       "      <td>1</td>\n",
       "      <td>11690.0</td>\n",
       "    </tr>\n",
       "    <tr>\n",
       "      <td>Совхозный</td>\n",
       "      <td>1</td>\n",
       "      <td>12560.0</td>\n",
       "    </tr>\n",
       "    <tr>\n",
       "      <td>Ефимовский</td>\n",
       "      <td>1</td>\n",
       "      <td>12690.0</td>\n",
       "    </tr>\n",
       "    <tr>\n",
       "      <td>Фалилеево</td>\n",
       "      <td>1</td>\n",
       "      <td>13300.0</td>\n",
       "    </tr>\n",
       "    <tr>\n",
       "      <td>Житково</td>\n",
       "      <td>1</td>\n",
       "      <td>15650.0</td>\n",
       "    </tr>\n",
       "    <tr>\n",
       "      <td>Почап</td>\n",
       "      <td>1</td>\n",
       "      <td>16040.0</td>\n",
       "    </tr>\n",
       "    <tr>\n",
       "      <td>Важины</td>\n",
       "      <td>1</td>\n",
       "      <td>16670.0</td>\n",
       "    </tr>\n",
       "    <tr>\n",
       "      <td>Серебрянский</td>\n",
       "      <td>2</td>\n",
       "      <td>16755.0</td>\n",
       "    </tr>\n",
       "    <tr>\n",
       "      <td>Никольский</td>\n",
       "      <td>4</td>\n",
       "      <td>16975.0</td>\n",
       "    </tr>\n",
       "    <tr>\n",
       "      <td>Ялгино</td>\n",
       "      <td>1</td>\n",
       "      <td>17660.0</td>\n",
       "    </tr>\n",
       "  </tbody>\n",
       "</table>\n",
       "</div>"
      ],
      "text/plain": [
       "                                    count                  mean\n",
       "                    cost_per_square_meter cost_per_square_meter\n",
       "short_locality_name                                            \n",
       "Кара Вахнова                            1               11690.0\n",
       "Совхозный                               1               12560.0\n",
       "Ефимовский                              1               12690.0\n",
       "Фалилеево                               1               13300.0\n",
       "Житково                                 1               15650.0\n",
       "Почап                                   1               16040.0\n",
       "Важины                                  1               16670.0\n",
       "Серебрянский                            2               16755.0\n",
       "Никольский                              4               16975.0\n",
       "Ялгино                                  1               17660.0"
      ]
     },
     "execution_count": 331,
     "metadata": {},
     "output_type": "execute_result"
    }
   ],
   "source": [
    "# топ-10 населённых пунктов с самой дешёвой недвижимостью\n",
    "top_city = top_city.sort_values(('mean','cost_per_square_meter'))\n",
    "top_city.head(10)"
   ]
  },
  {
   "cell_type": "markdown",
   "metadata": {},
   "source": [
    "Как и следовало ожидать, наибольшее число объявлений приходится на Санкт-Петербург, а также на Мурино, Кудров и Шушары. Цена квадратного метра в Санкт-Питербурге и Зеленогорске одна изсамых высоких. Высокие цены также в населённых пунктах Пушкин и Сестрорецк. В небольших населённых пунктах стоимость квадратного метра жилья значительно меньше. "
   ]
  },
  {
   "cell_type": "code",
   "execution_count": 332,
   "metadata": {},
   "outputs": [
    {
     "data": {
      "text/html": [
       "<div>\n",
       "<style scoped>\n",
       "    .dataframe tbody tr th:only-of-type {\n",
       "        vertical-align: middle;\n",
       "    }\n",
       "\n",
       "    .dataframe tbody tr th {\n",
       "        vertical-align: top;\n",
       "    }\n",
       "\n",
       "    .dataframe thead th {\n",
       "        text-align: right;\n",
       "    }\n",
       "</style>\n",
       "<table border=\"1\" class=\"dataframe\">\n",
       "  <thead>\n",
       "    <tr style=\"text-align: right;\">\n",
       "      <th></th>\n",
       "      <th>short_locality_name</th>\n",
       "      <th>cost_per_square_meter</th>\n",
       "    </tr>\n",
       "  </thead>\n",
       "  <tbody>\n",
       "    <tr>\n",
       "      <td>178</td>\n",
       "      <td>Санкт-Петербург</td>\n",
       "      <td>115455.0</td>\n",
       "    </tr>\n",
       "    <tr>\n",
       "      <td>51</td>\n",
       "      <td>Зеленогорск</td>\n",
       "      <td>113036.0</td>\n",
       "    </tr>\n",
       "    <tr>\n",
       "      <td>113</td>\n",
       "      <td>Мистолово</td>\n",
       "      <td>107123.0</td>\n",
       "    </tr>\n",
       "    <tr>\n",
       "      <td>8</td>\n",
       "      <td>Бор</td>\n",
       "      <td>105540.0</td>\n",
       "    </tr>\n",
       "    <tr>\n",
       "      <td>170</td>\n",
       "      <td>Репино</td>\n",
       "      <td>104240.0</td>\n",
       "    </tr>\n",
       "    <tr>\n",
       "      <td>163</td>\n",
       "      <td>Пушкин</td>\n",
       "      <td>103920.0</td>\n",
       "    </tr>\n",
       "    <tr>\n",
       "      <td>188</td>\n",
       "      <td>Сестрорецк</td>\n",
       "      <td>102267.0</td>\n",
       "    </tr>\n",
       "    <tr>\n",
       "      <td>89</td>\n",
       "      <td>Кудрово</td>\n",
       "      <td>96106.0</td>\n",
       "    </tr>\n",
       "    <tr>\n",
       "      <td>201</td>\n",
       "      <td>Стрельна</td>\n",
       "      <td>91006.0</td>\n",
       "    </tr>\n",
       "    <tr>\n",
       "      <td>136</td>\n",
       "      <td>Парголово</td>\n",
       "      <td>90902.0</td>\n",
       "    </tr>\n",
       "    <tr>\n",
       "      <td>141</td>\n",
       "      <td>Песочный</td>\n",
       "      <td>88645.0</td>\n",
       "    </tr>\n",
       "    <tr>\n",
       "      <td>117</td>\n",
       "      <td>Мурино</td>\n",
       "      <td>87773.0</td>\n",
       "    </tr>\n",
       "    <tr>\n",
       "      <td>134</td>\n",
       "      <td>Павловск</td>\n",
       "      <td>87593.0</td>\n",
       "    </tr>\n",
       "    <tr>\n",
       "      <td>142</td>\n",
       "      <td>Петергоф</td>\n",
       "      <td>85554.0</td>\n",
       "    </tr>\n",
       "    <tr>\n",
       "      <td>174</td>\n",
       "      <td>Ропша Новая</td>\n",
       "      <td>81080.0</td>\n",
       "    </tr>\n",
       "    <tr>\n",
       "      <td>56</td>\n",
       "      <td>Ильичёво</td>\n",
       "      <td>80910.0</td>\n",
       "    </tr>\n",
       "    <tr>\n",
       "      <td>88</td>\n",
       "      <td>Кронштадт</td>\n",
       "      <td>80363.0</td>\n",
       "    </tr>\n",
       "    <tr>\n",
       "      <td>231</td>\n",
       "      <td>Шушары</td>\n",
       "      <td>79539.0</td>\n",
       "    </tr>\n",
       "    <tr>\n",
       "      <td>10</td>\n",
       "      <td>Бугры</td>\n",
       "      <td>78446.0</td>\n",
       "    </tr>\n",
       "    <tr>\n",
       "      <td>1</td>\n",
       "      <td>Александровская</td>\n",
       "      <td>76970.0</td>\n",
       "    </tr>\n",
       "  </tbody>\n",
       "</table>\n",
       "</div>"
      ],
      "text/plain": [
       "    short_locality_name  cost_per_square_meter\n",
       "178     Санкт-Петербург               115455.0\n",
       "51          Зеленогорск               113036.0\n",
       "113           Мистолово               107123.0\n",
       "8                   Бор               105540.0\n",
       "170              Репино               104240.0\n",
       "163              Пушкин               103920.0\n",
       "188          Сестрорецк               102267.0\n",
       "89              Кудрово                96106.0\n",
       "201            Стрельна                91006.0\n",
       "136           Парголово                90902.0\n",
       "141            Песочный                88645.0\n",
       "117              Мурино                87773.0\n",
       "134            Павловск                87593.0\n",
       "142            Петергоф                85554.0\n",
       "174         Ропша Новая                81080.0\n",
       "56             Ильичёво                80910.0\n",
       "88            Кронштадт                80363.0\n",
       "231              Шушары                79539.0\n",
       "10                Бугры                78446.0\n",
       "1       Александровская                76970.0"
      ]
     },
     "execution_count": 332,
     "metadata": {},
     "output_type": "execute_result"
    }
   ],
   "source": [
    "top_city = round(data.pivot_table(index = 'short_locality_name', values = 'cost_per_square_meter').reset_index())\n",
    "top_city = top_city.sort_values('cost_per_square_meter', ascending = False)\n",
    "top_city.head(20)"
   ]
  },
  {
   "cell_type": "code",
   "execution_count": 333,
   "metadata": {},
   "outputs": [
    {
     "data": {
      "text/plain": [
       "<matplotlib.axes._subplots.AxesSubplot at 0x7fa9cdb18b50>"
      ]
     },
     "execution_count": 333,
     "metadata": {},
     "output_type": "execute_result"
    },
    {
     "data": {
      "image/png": "[encoded data removed]",
      "text/plain": [
       "<Figure size 1080x360 with 1 Axes>"
      ]
     },
     "metadata": {
      "needs_background": "light"
     },
     "output_type": "display_data"
    }
   ],
   "source": [
    "top_city.plot(x='short_locality_name', y='cost_per_square_meter', style='o', xlim=(0, 30), ylim=(60000, 120000), \n",
    "                                        grid=True, figsize=(15, 5))"
   ]
  },
  {
   "cell_type": "markdown",
   "metadata": {},
   "source": [
    "Зависимость цены от населённых пунктов (цена отсортирована в порядке убывания)"
   ]
  },
  {
   "cell_type": "markdown",
   "metadata": {},
   "source": [
    "---\n",
    "## Комментарий от наставника\n",
    "\n",
    "Результат верный, можно привести график зависимости цены от местоположения.\n",
    "\n",
    "---\n",
    "#### Ответ на комментарий\n",
    "Добавлен требуемый график"
   ]
  },
  {
   "cell_type": "markdown",
   "metadata": {},
   "source": [
    "<font color=blue> Что находится между Санкт-Петербургом и  городом Пушкин? В случае работы с номинативными данными стоит указывать все возможные значения.\n",
    "    \n",
    "---\n"
   ]
  },
  {
   "cell_type": "markdown",
   "metadata": {},
   "source": [
    "Теперь изучим предложения квартир, для которых известо расстоянии до центра"
   ]
  },
  {
   "cell_type": "code",
   "execution_count": 334,
   "metadata": {},
   "outputs": [],
   "source": [
    "# добавим в таблицу данных значение расстояния до центра города в километрах \n",
    "# и округлим их до целых значений\n",
    "data['cityCenters_nearest_km'] = round(data['cityCenters_nearest'] / 1000, 0)\n",
    "# по понятным причинам нам нужно отфильтровать таблицу от нулевых значений расстояния до центра города\n",
    "data = data.query('cityCenters_nearest_km != 0').copy(deep=True)\n",
    "# добавим в таблицу данных столбец цена за один километр и округлим её до целых значений\n",
    "data['price_per_km'] = round(data['last_price'] / data['cityCenters_nearest_km'], 0)\n",
    "# добавим в таблицу данных столбец цена за один километр и округлим её до целых значений\n",
    "data['price_per_km'] = round(data['last_price'] / data['cityCenters_nearest_km'], 0)\n",
    "# создадим новую таблицу в которую добавим столбцы из data - цена, название населённого пункта,\n",
    "#асстояние до центра и стоимость одного километра.\n",
    "analysis_cityCenters_nearest = data.iloc[:, [1,22,30,31]].copy(deep=True)\n",
    "#отсортируем таблицу так, чтобы в ней остались только объявления из Санкт-Петербурга\n",
    "analysis_cityCenters_nearest = analysis_cityCenters_nearest.query('short_locality_name == \"Санкт-Петербург\"')"
   ]
  },
  {
   "cell_type": "code",
   "execution_count": 335,
   "metadata": {},
   "outputs": [
    {
     "data": {
      "text/html": [
       "<div>\n",
       "<style scoped>\n",
       "    .dataframe tbody tr th:only-of-type {\n",
       "        vertical-align: middle;\n",
       "    }\n",
       "\n",
       "    .dataframe tbody tr th {\n",
       "        vertical-align: top;\n",
       "    }\n",
       "\n",
       "    .dataframe thead th {\n",
       "        text-align: right;\n",
       "    }\n",
       "</style>\n",
       "<table border=\"1\" class=\"dataframe\">\n",
       "  <thead>\n",
       "    <tr style=\"text-align: right;\">\n",
       "      <th></th>\n",
       "      <th>cityCenters_nearest_km</th>\n",
       "      <th>price_per_km</th>\n",
       "    </tr>\n",
       "  </thead>\n",
       "  <tbody>\n",
       "    <tr>\n",
       "      <td>0</td>\n",
       "      <td>1.0</td>\n",
       "      <td>21375198.0</td>\n",
       "    </tr>\n",
       "    <tr>\n",
       "      <td>1</td>\n",
       "      <td>2.0</td>\n",
       "      <td>8781475.0</td>\n",
       "    </tr>\n",
       "    <tr>\n",
       "      <td>2</td>\n",
       "      <td>3.0</td>\n",
       "      <td>3749278.0</td>\n",
       "    </tr>\n",
       "    <tr>\n",
       "      <td>3</td>\n",
       "      <td>4.0</td>\n",
       "      <td>3151235.0</td>\n",
       "    </tr>\n",
       "    <tr>\n",
       "      <td>4</td>\n",
       "      <td>5.0</td>\n",
       "      <td>2839974.0</td>\n",
       "    </tr>\n",
       "  </tbody>\n",
       "</table>\n",
       "</div>"
      ],
      "text/plain": [
       "   cityCenters_nearest_km  price_per_km\n",
       "0                     1.0    21375198.0\n",
       "1                     2.0     8781475.0\n",
       "2                     3.0     3749278.0\n",
       "3                     4.0     3151235.0\n",
       "4                     5.0     2839974.0"
      ]
     },
     "execution_count": 335,
     "metadata": {},
     "output_type": "execute_result"
    }
   ],
   "source": [
    "# сгруппируем данные по расстоянию до центра города и найдём среднюю цену по группам.\n",
    "analysis_cityCenters_nearest_pivot = round(analysis_cityCenters_nearest.pivot_table(index = 'cityCenters_nearest_km', \n",
    "                                     values = 'price_per_km', aggfunc = 'mean'),0).reset_index()\n",
    "analysis_cityCenters_nearest_pivot.head()"
   ]
  },
  {
   "cell_type": "code",
   "execution_count": 336,
   "metadata": {},
   "outputs": [
    {
     "data": {
      "text/plain": [
       "<matplotlib.axes._subplots.AxesSubplot at 0x7fa9cda319d0>"
      ]
     },
     "execution_count": 336,
     "metadata": {},
     "output_type": "execute_result"
    },
    {
     "data": {
      "image/png": "[encoded data removed]",
      "text/plain": [
       "<Figure size 720x216 with 1 Axes>"
      ]
     },
     "metadata": {
      "needs_background": "light"
     },
     "output_type": "display_data"
    }
   ],
   "source": [
    "# построим график зависимости цены за километр от растояния до центра.\n",
    "analysis_cityCenters_nearest_pivot.plot(x='cityCenters_nearest_km', y='price_per_km', \n",
    "                                        style='o', xlim=(0, 30), \n",
    "                                        grid=True, figsize=(10, 3))"
   ]
  },
  {
   "cell_type": "markdown",
   "metadata": {},
   "source": [
    "Из графика видно, что центр города ограничен областью до 3 км, где стоимость квадратного метра жилья наибольшая"
   ]
  },
  {
   "cell_type": "markdown",
   "metadata": {},
   "source": [
    "---\n",
    "## Комментарий от наставника\n",
    "\n",
    "Верный выбор центральной части города.\n",
    "\n",
    "---"
   ]
  },
  {
   "cell_type": "markdown",
   "metadata": {},
   "source": [
    "Проанализируем квартиры в центре Санкт-Питербурга по следующим параметрам: площадь, цена, число комнат, высота потолков."
   ]
  },
  {
   "cell_type": "code",
   "execution_count": 338,
   "metadata": {},
   "outputs": [
    {
     "data": {
      "text/html": [
       "<div>\n",
       "<style scoped>\n",
       "    .dataframe tbody tr th:only-of-type {\n",
       "        vertical-align: middle;\n",
       "    }\n",
       "\n",
       "    .dataframe tbody tr th {\n",
       "        vertical-align: top;\n",
       "    }\n",
       "\n",
       "    .dataframe thead th {\n",
       "        text-align: right;\n",
       "    }\n",
       "</style>\n",
       "<table border=\"1\" class=\"dataframe\">\n",
       "  <thead>\n",
       "    <tr style=\"text-align: right;\">\n",
       "      <th></th>\n",
       "      <th>last_price</th>\n",
       "      <th>total_area</th>\n",
       "      <th>rooms</th>\n",
       "      <th>ceiling_height</th>\n",
       "      <th>floor</th>\n",
       "      <th>cityCenters_nearest</th>\n",
       "      <th>day_publication</th>\n",
       "      <th>month_publication</th>\n",
       "      <th>year_publication</th>\n",
       "      <th>category_floor_housing</th>\n",
       "    </tr>\n",
       "  </thead>\n",
       "  <tbody>\n",
       "    <tr>\n",
       "      <td>882</td>\n",
       "      <td>330000000</td>\n",
       "      <td>190.0</td>\n",
       "      <td>3</td>\n",
       "      <td>3.50</td>\n",
       "      <td>5</td>\n",
       "      <td>1197.0</td>\n",
       "      <td>2</td>\n",
       "      <td>4</td>\n",
       "      <td>2018</td>\n",
       "      <td>другой</td>\n",
       "    </tr>\n",
       "    <tr>\n",
       "      <td>13916</td>\n",
       "      <td>289238400</td>\n",
       "      <td>187.5</td>\n",
       "      <td>2</td>\n",
       "      <td>3.37</td>\n",
       "      <td>6</td>\n",
       "      <td>1073.0</td>\n",
       "      <td>1</td>\n",
       "      <td>3</td>\n",
       "      <td>2019</td>\n",
       "      <td>последний</td>\n",
       "    </tr>\n",
       "    <tr>\n",
       "      <td>1537</td>\n",
       "      <td>159984000</td>\n",
       "      <td>242.4</td>\n",
       "      <td>4</td>\n",
       "      <td>3.85</td>\n",
       "      <td>7</td>\n",
       "      <td>2242.0</td>\n",
       "      <td>3</td>\n",
       "      <td>8</td>\n",
       "      <td>2015</td>\n",
       "      <td>другой</td>\n",
       "    </tr>\n",
       "    <tr>\n",
       "      <td>8438</td>\n",
       "      <td>130000000</td>\n",
       "      <td>231.0</td>\n",
       "      <td>6</td>\n",
       "      <td>3.60</td>\n",
       "      <td>4</td>\n",
       "      <td>1280.0</td>\n",
       "      <td>3</td>\n",
       "      <td>8</td>\n",
       "      <td>2015</td>\n",
       "      <td>другой</td>\n",
       "    </tr>\n",
       "    <tr>\n",
       "      <td>12835</td>\n",
       "      <td>124350000</td>\n",
       "      <td>248.7</td>\n",
       "      <td>4</td>\n",
       "      <td>3.40</td>\n",
       "      <td>4</td>\n",
       "      <td>2242.0</td>\n",
       "      <td>3</td>\n",
       "      <td>8</td>\n",
       "      <td>2015</td>\n",
       "      <td>другой</td>\n",
       "    </tr>\n",
       "    <tr>\n",
       "      <td>...</td>\n",
       "      <td>...</td>\n",
       "      <td>...</td>\n",
       "      <td>...</td>\n",
       "      <td>...</td>\n",
       "      <td>...</td>\n",
       "      <td>...</td>\n",
       "      <td>...</td>\n",
       "      <td>...</td>\n",
       "      <td>...</td>\n",
       "      <td>...</td>\n",
       "    </tr>\n",
       "    <tr>\n",
       "      <td>13103</td>\n",
       "      <td>3100000</td>\n",
       "      <td>22.7</td>\n",
       "      <td>0</td>\n",
       "      <td>3.33</td>\n",
       "      <td>2</td>\n",
       "      <td>3363.0</td>\n",
       "      <td>2</td>\n",
       "      <td>8</td>\n",
       "      <td>2018</td>\n",
       "      <td>другой</td>\n",
       "    </tr>\n",
       "    <tr>\n",
       "      <td>6248</td>\n",
       "      <td>2800000</td>\n",
       "      <td>31.0</td>\n",
       "      <td>1</td>\n",
       "      <td>2.60</td>\n",
       "      <td>1</td>\n",
       "      <td>3238.0</td>\n",
       "      <td>0</td>\n",
       "      <td>1</td>\n",
       "      <td>2018</td>\n",
       "      <td>первый</td>\n",
       "    </tr>\n",
       "    <tr>\n",
       "      <td>3160</td>\n",
       "      <td>2750000</td>\n",
       "      <td>38.1</td>\n",
       "      <td>1</td>\n",
       "      <td>2.82</td>\n",
       "      <td>1</td>\n",
       "      <td>2357.0</td>\n",
       "      <td>5</td>\n",
       "      <td>5</td>\n",
       "      <td>2016</td>\n",
       "      <td>первый</td>\n",
       "    </tr>\n",
       "    <tr>\n",
       "      <td>3202</td>\n",
       "      <td>2645000</td>\n",
       "      <td>24.4</td>\n",
       "      <td>1</td>\n",
       "      <td>3.33</td>\n",
       "      <td>2</td>\n",
       "      <td>2814.0</td>\n",
       "      <td>0</td>\n",
       "      <td>12</td>\n",
       "      <td>2018</td>\n",
       "      <td>другой</td>\n",
       "    </tr>\n",
       "    <tr>\n",
       "      <td>12161</td>\n",
       "      <td>2400000</td>\n",
       "      <td>12.0</td>\n",
       "      <td>1</td>\n",
       "      <td>2.55</td>\n",
       "      <td>2</td>\n",
       "      <td>964.0</td>\n",
       "      <td>2</td>\n",
       "      <td>7</td>\n",
       "      <td>2017</td>\n",
       "      <td>другой</td>\n",
       "    </tr>\n",
       "  </tbody>\n",
       "</table>\n",
       "<p>587 rows × 10 columns</p>\n",
       "</div>"
      ],
      "text/plain": [
       "       last_price  total_area  rooms  ceiling_height  floor  \\\n",
       "882     330000000       190.0      3            3.50      5   \n",
       "13916   289238400       187.5      2            3.37      6   \n",
       "1537    159984000       242.4      4            3.85      7   \n",
       "8438    130000000       231.0      6            3.60      4   \n",
       "12835   124350000       248.7      4            3.40      4   \n",
       "...           ...         ...    ...             ...    ...   \n",
       "13103     3100000        22.7      0            3.33      2   \n",
       "6248      2800000        31.0      1            2.60      1   \n",
       "3160      2750000        38.1      1            2.82      1   \n",
       "3202      2645000        24.4      1            3.33      2   \n",
       "12161     2400000        12.0      1            2.55      2   \n",
       "\n",
       "       cityCenters_nearest  day_publication  month_publication  \\\n",
       "882                 1197.0                2                  4   \n",
       "13916               1073.0                1                  3   \n",
       "1537                2242.0                3                  8   \n",
       "8438                1280.0                3                  8   \n",
       "12835               2242.0                3                  8   \n",
       "...                    ...              ...                ...   \n",
       "13103               3363.0                2                  8   \n",
       "6248                3238.0                0                  1   \n",
       "3160                2357.0                5                  5   \n",
       "3202                2814.0                0                 12   \n",
       "12161                964.0                2                  7   \n",
       "\n",
       "       year_publication category_floor_housing  \n",
       "882                2018                 другой  \n",
       "13916              2019              последний  \n",
       "1537               2015                 другой  \n",
       "8438               2015                 другой  \n",
       "12835              2015                 другой  \n",
       "...                 ...                    ...  \n",
       "13103              2018                 другой  \n",
       "6248               2018                 первый  \n",
       "3160               2016                 первый  \n",
       "3202               2018                 другой  \n",
       "12161              2017                 другой  \n",
       "\n",
       "[587 rows x 10 columns]"
      ]
     },
     "execution_count": 338,
     "metadata": {},
     "output_type": "execute_result"
    }
   ],
   "source": [
    "# сперва отфильтруем таблицу по имени Санкт-Петербург и расстоянию не более 3 км до центра города, \n",
    "# сохраним её в новой переменной\n",
    "data2 = data.query('short_locality_name == \"Санкт-Петербург\" & cityCenters_nearest_km <= 3').copy(deep=True)\n",
    "# создадим новую таблицу в которую добавим столбцы из data - цена, площадь квартиры, число комнат, высота потолков и др.\n",
    "analysis_SPB_center1 = data2.iloc[:,[1,2,4,5,8,16,24,25,26,27]].copy(deep=True)\n",
    "#data1.info()\n",
    "analysis_SPB_center1 = analysis_SPB_center1.sort_values('last_price', ascending = False)\n",
    "analysis_SPB_center1"
   ]
  },
  {
   "cell_type": "code",
   "execution_count": 339,
   "metadata": {},
   "outputs": [
    {
     "data": {
      "text/html": [
       "<div>\n",
       "<style scoped>\n",
       "    .dataframe tbody tr th:only-of-type {\n",
       "        vertical-align: middle;\n",
       "    }\n",
       "\n",
       "    .dataframe tbody tr th {\n",
       "        vertical-align: top;\n",
       "    }\n",
       "\n",
       "    .dataframe thead th {\n",
       "        text-align: right;\n",
       "    }\n",
       "</style>\n",
       "<table border=\"1\" class=\"dataframe\">\n",
       "  <thead>\n",
       "    <tr style=\"text-align: right;\">\n",
       "      <th></th>\n",
       "      <th>last_price</th>\n",
       "      <th>total_area</th>\n",
       "      <th>rooms</th>\n",
       "      <th>ceiling_height</th>\n",
       "      <th>floor</th>\n",
       "      <th>cityCenters_nearest</th>\n",
       "      <th>day_publication</th>\n",
       "      <th>month_publication</th>\n",
       "      <th>year_publication</th>\n",
       "    </tr>\n",
       "  </thead>\n",
       "  <tbody>\n",
       "    <tr>\n",
       "      <td>last_price</td>\n",
       "      <td>1.000000</td>\n",
       "      <td>0.520685</td>\n",
       "      <td>0.229943</td>\n",
       "      <td>0.159782</td>\n",
       "      <td>0.190761</td>\n",
       "      <td>-0.158420</td>\n",
       "      <td>-0.012897</td>\n",
       "      <td>-0.003584</td>\n",
       "      <td>-0.000706</td>\n",
       "    </tr>\n",
       "    <tr>\n",
       "      <td>total_area</td>\n",
       "      <td>0.520685</td>\n",
       "      <td>1.000000</td>\n",
       "      <td>0.751154</td>\n",
       "      <td>0.191592</td>\n",
       "      <td>0.172860</td>\n",
       "      <td>-0.103167</td>\n",
       "      <td>-0.017084</td>\n",
       "      <td>-0.013272</td>\n",
       "      <td>-0.050938</td>\n",
       "    </tr>\n",
       "    <tr>\n",
       "      <td>rooms</td>\n",
       "      <td>0.229943</td>\n",
       "      <td>0.751154</td>\n",
       "      <td>1.000000</td>\n",
       "      <td>0.080731</td>\n",
       "      <td>0.113654</td>\n",
       "      <td>-0.076240</td>\n",
       "      <td>-0.004166</td>\n",
       "      <td>-0.056243</td>\n",
       "      <td>-0.052968</td>\n",
       "    </tr>\n",
       "    <tr>\n",
       "      <td>ceiling_height</td>\n",
       "      <td>0.159782</td>\n",
       "      <td>0.191592</td>\n",
       "      <td>0.080731</td>\n",
       "      <td>1.000000</td>\n",
       "      <td>-0.013375</td>\n",
       "      <td>-0.035720</td>\n",
       "      <td>0.025739</td>\n",
       "      <td>0.019239</td>\n",
       "      <td>-0.034440</td>\n",
       "    </tr>\n",
       "    <tr>\n",
       "      <td>floor</td>\n",
       "      <td>0.190761</td>\n",
       "      <td>0.172860</td>\n",
       "      <td>0.113654</td>\n",
       "      <td>-0.013375</td>\n",
       "      <td>1.000000</td>\n",
       "      <td>0.043174</td>\n",
       "      <td>0.108980</td>\n",
       "      <td>-0.060646</td>\n",
       "      <td>0.061732</td>\n",
       "    </tr>\n",
       "    <tr>\n",
       "      <td>cityCenters_nearest</td>\n",
       "      <td>-0.158420</td>\n",
       "      <td>-0.103167</td>\n",
       "      <td>-0.076240</td>\n",
       "      <td>-0.035720</td>\n",
       "      <td>0.043174</td>\n",
       "      <td>1.000000</td>\n",
       "      <td>-0.056611</td>\n",
       "      <td>-0.014354</td>\n",
       "      <td>0.075199</td>\n",
       "    </tr>\n",
       "    <tr>\n",
       "      <td>day_publication</td>\n",
       "      <td>-0.012897</td>\n",
       "      <td>-0.017084</td>\n",
       "      <td>-0.004166</td>\n",
       "      <td>0.025739</td>\n",
       "      <td>0.108980</td>\n",
       "      <td>-0.056611</td>\n",
       "      <td>1.000000</td>\n",
       "      <td>-0.021739</td>\n",
       "      <td>0.003907</td>\n",
       "    </tr>\n",
       "    <tr>\n",
       "      <td>month_publication</td>\n",
       "      <td>-0.003584</td>\n",
       "      <td>-0.013272</td>\n",
       "      <td>-0.056243</td>\n",
       "      <td>0.019239</td>\n",
       "      <td>-0.060646</td>\n",
       "      <td>-0.014354</td>\n",
       "      <td>-0.021739</td>\n",
       "      <td>1.000000</td>\n",
       "      <td>-0.200729</td>\n",
       "    </tr>\n",
       "    <tr>\n",
       "      <td>year_publication</td>\n",
       "      <td>-0.000706</td>\n",
       "      <td>-0.050938</td>\n",
       "      <td>-0.052968</td>\n",
       "      <td>-0.034440</td>\n",
       "      <td>0.061732</td>\n",
       "      <td>0.075199</td>\n",
       "      <td>0.003907</td>\n",
       "      <td>-0.200729</td>\n",
       "      <td>1.000000</td>\n",
       "    </tr>\n",
       "  </tbody>\n",
       "</table>\n",
       "</div>"
      ],
      "text/plain": [
       "                     last_price  total_area     rooms  ceiling_height  \\\n",
       "last_price             1.000000    0.520685  0.229943        0.159782   \n",
       "total_area             0.520685    1.000000  0.751154        0.191592   \n",
       "rooms                  0.229943    0.751154  1.000000        0.080731   \n",
       "ceiling_height         0.159782    0.191592  0.080731        1.000000   \n",
       "floor                  0.190761    0.172860  0.113654       -0.013375   \n",
       "cityCenters_nearest   -0.158420   -0.103167 -0.076240       -0.035720   \n",
       "day_publication       -0.012897   -0.017084 -0.004166        0.025739   \n",
       "month_publication     -0.003584   -0.013272 -0.056243        0.019239   \n",
       "year_publication      -0.000706   -0.050938 -0.052968       -0.034440   \n",
       "\n",
       "                        floor  cityCenters_nearest  day_publication  \\\n",
       "last_price           0.190761            -0.158420        -0.012897   \n",
       "total_area           0.172860            -0.103167        -0.017084   \n",
       "rooms                0.113654            -0.076240        -0.004166   \n",
       "ceiling_height      -0.013375            -0.035720         0.025739   \n",
       "floor                1.000000             0.043174         0.108980   \n",
       "cityCenters_nearest  0.043174             1.000000        -0.056611   \n",
       "day_publication      0.108980            -0.056611         1.000000   \n",
       "month_publication   -0.060646            -0.014354        -0.021739   \n",
       "year_publication     0.061732             0.075199         0.003907   \n",
       "\n",
       "                     month_publication  year_publication  \n",
       "last_price                   -0.003584         -0.000706  \n",
       "total_area                   -0.013272         -0.050938  \n",
       "rooms                        -0.056243         -0.052968  \n",
       "ceiling_height                0.019239         -0.034440  \n",
       "floor                        -0.060646          0.061732  \n",
       "cityCenters_nearest          -0.014354          0.075199  \n",
       "day_publication              -0.021739          0.003907  \n",
       "month_publication             1.000000         -0.200729  \n",
       "year_publication             -0.200729          1.000000  "
      ]
     },
     "execution_count": 339,
     "metadata": {},
     "output_type": "execute_result"
    }
   ],
   "source": [
    "analysis_SPB_center1.corr() # посмотрим коэффициенты корреляции Пирсона для квартир В центре Санкт-Питербурга"
   ]
  },
  {
   "cell_type": "markdown",
   "metadata": {},
   "source": [
    "Из таблицы с коффициентами корреляции Пирсона видно, есть слабая зависимость цены от общей площади и только от неё."
   ]
  },
  {
   "cell_type": "code",
   "execution_count": 340,
   "metadata": {},
   "outputs": [
    {
     "data": {
      "text/plain": [
       "category_floor_housing\n",
       "другой       10900000\n",
       "первый        7500000\n",
       "последний     9050000\n",
       "Name: last_price, dtype: int64"
      ]
     },
     "execution_count": 340,
     "metadata": {},
     "output_type": "execute_result"
    }
   ],
   "source": [
    "# сгруппируем по категории расположения квартир на этаже и посчитаем меиану\n",
    "analysis_SPB_center1 = analysis_SPB_center1.groupby('category_floor_housing')['last_price'].median()\n",
    "analysis_SPB_center1"
   ]
  },
  {
   "cell_type": "markdown",
   "metadata": {},
   "source": [
    "Построим графики сравнения цены от других параметров для центра города и остальных районов города."
   ]
  },
  {
   "cell_type": "code",
   "execution_count": 341,
   "metadata": {},
   "outputs": [
    {
     "data": {
      "text/plain": [
       "<matplotlib.axes._subplots.AxesSubplot at 0x7fa9cd9a5190>"
      ]
     },
     "execution_count": 341,
     "metadata": {},
     "output_type": "execute_result"
    },
    {
     "data": {
      "image/png": "[encoded data removed]",
      "text/plain": [
       "<Figure size 432x288 with 1 Axes>"
      ]
     },
     "metadata": {
      "needs_background": "light"
     },
     "output_type": "display_data"
    }
   ],
   "source": [
    "# данные по Санкт-Петербургу не входящие в центральный район\n",
    "data2 = data.query('short_locality_name == \"Санкт-Петербург\" & cityCenters_nearest_km > 3').copy(deep=True)\n",
    "data_city_outskirts = data2.iloc[:,[1,2,4,5,8,16,24,25,26,27]].copy(deep=True)\n",
    "# данные по центру Санкт-Петербургу\n",
    "data3 = data.query('short_locality_name == \"Санкт-Петербург\" & cityCenters_nearest_km <= 3').copy(deep=True)\n",
    "data_for_SPB_center = data3.iloc[:,[1,2,4,5,8,16,24,25,26,27]].copy(deep=True)\n",
    "# функция для построения ступенчатых гистограм для сравнения параметров квартир в центре города\n",
    "# со значениями по городу в целом \n",
    "def function_building_two_histograms(column_city, column_center):\n",
    "    N1 = len(column_city.unique()) # находим объём выборки, как длину списка уникальных значений\n",
    "    k1 = round(math.sqrt(N1)) # определение “оптимального” числа интервалов как квадратный корень из N\n",
    "    N2 = len(column_center.unique())\n",
    "    k2 = round(math.sqrt(N2))\n",
    "    Q1_city = np.percentile(column_city,25) # первый квантиль\n",
    "    Q3_city = np.percentile(column_city,75) # третий квантиль\n",
    "    IQR_city = Q3_city - Q1_city # межквартильный диапазон\n",
    "    max_value = round(Q3_city + 2 * IQR_city) # # минимальное значение интервала построения графика\n",
    "    ax = column_city.plot(kind='hist', histtype='step', range=(0, max_value), bins=k1, \n",
    "                            linewidth=2, alpha=0.7, label='City', legend=True)\n",
    "    city_center = column_center.plot(kind='hist', histtype='step', range=(0, max_value), bins=k2, \n",
    "                                     linewidth=2, alpha=0.7, label='City_center', ax=ax, \n",
    "                                     grid=True, legend=True)\n",
    "    return city_center\n",
    "function_building_two_histograms(data_city_outskirts['last_price'], data_for_SPB_center['last_price'])"
   ]
  },
  {
   "cell_type": "markdown",
   "metadata": {},
   "source": [
    "Цены на жильё в центре Санкт-Петербурге явно выше, чем в других районах."
   ]
  },
  {
   "cell_type": "code",
   "execution_count": 342,
   "metadata": {},
   "outputs": [
    {
     "data": {
      "text/plain": [
       "<matplotlib.axes._subplots.AxesSubplot at 0x7fa9cd929850>"
      ]
     },
     "execution_count": 342,
     "metadata": {},
     "output_type": "execute_result"
    },
    {
     "data": {
      "image/png": "[encoded data removed]",
      "text/plain": [
       "<Figure size 432x288 with 1 Axes>"
      ]
     },
     "metadata": {
      "needs_background": "light"
     },
     "output_type": "display_data"
    }
   ],
   "source": [
    "function_building_two_histograms(data_city_outskirts['total_area'], data_for_SPB_center['total_area'])"
   ]
  },
  {
   "cell_type": "markdown",
   "metadata": {},
   "source": [
    "Площадь квартир в центре Санкт-Петербурге также выше общей площади квартир по другим районам города."
   ]
  },
  {
   "cell_type": "code",
   "execution_count": 343,
   "metadata": {},
   "outputs": [
    {
     "data": {
      "text/plain": [
       "<matplotlib.axes._subplots.AxesSubplot at 0x7fa9cd9b5590>"
      ]
     },
     "execution_count": 343,
     "metadata": {},
     "output_type": "execute_result"
    },
    {
     "data": {
      "image/png": "[encoded data removed]",
      "text/plain": [
       "<Figure size 432x288 with 1 Axes>"
      ]
     },
     "metadata": {
      "needs_background": "light"
     },
     "output_type": "display_data"
    }
   ],
   "source": [
    "function_building_two_histograms(data_city_outskirts['rooms'], data_for_SPB_center['rooms'])"
   ]
  },
  {
   "cell_type": "markdown",
   "metadata": {},
   "source": [
    "И как следствие большей общей площади квартир в центе Санкт-Питербурге, они имеют в среднем больше комнат."
   ]
  },
  {
   "cell_type": "code",
   "execution_count": 344,
   "metadata": {},
   "outputs": [
    {
     "data": {
      "text/plain": [
       "<matplotlib.axes._subplots.AxesSubplot at 0x7fa9cd815f10>"
      ]
     },
     "execution_count": 344,
     "metadata": {},
     "output_type": "execute_result"
    },
    {
     "data": {
      "image/png": "[encoded data removed]",
      "text/plain": [
       "<Figure size 432x288 with 1 Axes>"
      ]
     },
     "metadata": {
      "needs_background": "light"
     },
     "output_type": "display_data"
    }
   ],
   "source": [
    "function_building_two_histograms(data_city_outskirts['ceiling_height'], data_for_SPB_center['ceiling_height'])"
   ]
  },
  {
   "cell_type": "markdown",
   "metadata": {},
   "source": [
    "Потолки в квартирах в центре города тоже выше средних значений по городу."
   ]
  },
  {
   "cell_type": "markdown",
   "metadata": {},
   "source": [
    "### Вывод"
   ]
  },
  {
   "cell_type": "markdown",
   "metadata": {},
   "source": [
    "Квартиры в центре Санкт-Петербурга стоят, в среднем, дороже квартир по городу. Это связано не только с их расмоложением, но и с параметрами квартир в центре. Они в среднем имеют большую общую площадь (больше комнат) и более высокие потолки."
   ]
  },
  {
   "cell_type": "markdown",
   "metadata": {},
   "source": [
    "---\n",
    "## Комментарий от наставника\n",
    "\n",
    "Все-таки центр обладает своими характерными чертами. Попробуй построить графики для центра и остальной части города по одинаковым параметрам на одном рисунке. Так различия будет проще найти.\n",
    "\n",
    "---\n",
    "#### Ответ на комментарий\n",
    "Замечания учтены. Добавлены необходимые графики и выводы к ним."
   ]
  },
  {
   "cell_type": "markdown",
   "metadata": {},
   "source": [
    "<font color=blue> Все верно, графики позволяют обнаружить различия в характеристиках данных частей города.\n",
    "    \n",
    "---\n"
   ]
  },
  {
   "cell_type": "markdown",
   "metadata": {},
   "source": [
    "### Шаг 5. Общий вывод"
   ]
  },
  {
   "cell_type": "markdown",
   "metadata": {},
   "source": [
    "1) В таблице данных имелись пропуски, вызванные разными причинами (информация не указана продавцом, отсутствие парков или прудов в близи от дома, актуальность объявления, и как следствие ошибки при автоматическом заполнении других столбцов). Критичные пропуски в столбцах с важными данными были заполнны, а в таблицу были добавлены новые метрики: стоимость одного квадратного метра, отношение жилой площщади к общей площади квартиры и отношение площади кухни к общей площади. Была проведена категоризация квартир в зависимости от этажа (на первом, на последнем и все остальные). Добавлены столбцы с днём, месяцем и годом публикации объявлений.\n",
    "\n",
    "2) Основной сегмент рынка квартир в Санкт-Петербурге и близлижащих населённых пунктов представляет собой квартиры с общей площадью от 30 до 60 кв.м. и стоимостью от 2 до 6 млн.р., в которых число комнат не превышает 2 и потолки имеют стандартную высоту от 2.5 до 3 м.\n",
    "\n",
    "3) Квартиры в среднем продаются менее чем за 3 месяца. Квартиры со сроком продажи более 1.5 года должны вызывать беспокойство у покупателей. Так же установили, что объявления о продаже квартир люди чаще всего публикуют в будние дни, а в году пик числа публикаций приходится на начало и конец года. И цена не зависит от даты публикации.\n",
    "\n",
    "4) Стоимость жилья главным образом зависит от его общей площади. Слабая зависимость цены от числа комнат объясняется тем, что число комнат является производной величеной от общей площади. Имеется слабая зависимость цены жилья от расстояния до центра города (чем ближе к центру, тем дороже). Квартиры на первом этаже самые дешёвые (по цене за 1 кв.м.), а квартиры на последнем этаже дешевле квартир на промежуточных этажах (по цене за 1 кв.м.).\n",
    "\n",
    "5) Составлен топ-10 населённых пунктов с самой дорогой жилой недвижимостью: *Санкт-Петербург, Зеленогорск, Мистолово, Бор, Репино, Пушкин, Сестрорецк, Кудрово, Стрельна, Парголово.* Средняя стоимость одного квадратного метра в них превышала 90 тыс.р., из них (кроме Санкт-Петербурга) в топ-10 по числу объявлений также вошли *Кудрово, Пушкин и Парголово.*\n",
    "\n",
    "6) Основываясь на графическом изображении зависимости цены от расстояния до центра города (учитывались объявления только по Санкт-Петербургу) была выделена область - центральный район города с расстоянием до центра менее 3 км. Сравнительный анализ данных центрального района с остальной частью города показал:в центре квартиры стоят дороже, площадь в них больше (следовательно чаще встречаются квартиры с большим числом комнат), и чаще встречаются квартиры с высотой потолков от 2.7 до 3 м. Можно сказать, что квартиры в центре относятся к элитному жилью с комфортными для проживания параметрами квартир и близко расположенной городской инфраструктурой."
   ]
  },
  {
   "cell_type": "markdown",
   "metadata": {},
   "source": [
    "<font color=blue> Выводы стали лучше. Приведены ответы на главные вопросы проекта.\n",
    "    \n",
    "---\n"
   ]
  },
  {
   "cell_type": "markdown",
   "metadata": {},
   "source": [
    "---\n",
    "## Комментарий от наставника\n",
    "\n",
    "Финальный вывод и есть главный результат твоей работы. Стоит писать его подробно по результатам работы, в нем можно приводить полученные в ходе работы значения. Также можно расписать все, что было сделано в работе.\n",
    "\n",
    "---"
   ]
  },
  {
   "cell_type": "markdown",
   "metadata": {},
   "source": [
    "<font color=blue> Помарки исправлены, и теперь работа выполнена хорошо. Спасибо за обратную связь. Успехов в дальнейших проектах :)\n",
    "    \n",
    "---"
   ]
  },
  {
   "cell_type": "markdown",
   "metadata": {},
   "source": [
    "## Комментарий от наставника\n",
    "\n",
    "- Заполнение пропусков стоит делать осознанно. Исправь заполнение пропусков в столбце с удаленностью от центра;\n",
    "- Автоматизируй построение графиков;\n",
    "- Очищай данные от выбросов. Они вызывают смещение в данных;\n",
    "- Доделай необходимые графики по зависимости цены от параметров для центра и остальной части города;\n",
    "- Финальный вывод стоит делать подробно по результатам проведенной работы.\n",
    "\n",
    "Если тебе нравится тема визуализации, то можешь изучить методы библиотеки seaborn. Она позволяет строить довольно презентабельные графики.\n",
    "\n",
    "Ты проделал большую работу, молодец! Исправь все замечания и получится очень достойная работа :)\n",
    "\n",
    "-----"
   ]
  },
  {
   "cell_type": "markdown",
   "metadata": {},
   "source": [
    "### Чек-лист готовности проекта\n",
    "\n",
    "Поставьте 'x' в выполненных пунктах. Далее нажмите Shift+Enter."
   ]
  },
  {
   "cell_type": "markdown",
   "metadata": {},
   "source": [
    "- [x]  открыт файл\n",
    "- [x]  файлы изучены (выведены первые строки, метод info())\n",
    "- [x]  определены пропущенные значения\n",
    "- [x]  заполнены пропущенные значения\n",
    "- [x]  есть пояснение какие пропущенные значения обнаружены\n",
    "- [x]  изменены типы данных\n",
    "- [x]  есть пояснение в каких столбцах изменены типы и почему\n",
    "- [x]  посчитано и добавлено в таблицу: цена квадратного метра\n",
    "- [x]  посчитано и добавлено в таблицу: день недели, месяц и год публикации объявления\n",
    "- [x]  посчитано и добавлено в таблицу: этаж квартиры; варианты — первый, последний, другой\n",
    "- [x]  посчитано и добавлено в таблицу: соотношение жилой и общей площади, а также отношение площади кухни к общей\n",
    "- [x]  изучены следующие параметры: площадь, цена, число комнат, высота потолков\n",
    "- [x]  построены гистограммы для каждого параметра\n",
    "- [x]  выполнено задание: \"Изучите время продажи квартиры. Постройте гистограмму. Посчитайте среднее и медиану. Опишите, сколько обычно занимает продажа. Когда можно считать, что продажи прошли очень быстро, а когда необычно долго?\"\n",
    "- [x]  выполнено задание: \"Уберите редкие и выбивающиеся значения. Опишите, какие особенности обнаружили.\"\n",
    "- [x]  выполнено задание: \"Какие факторы больше всего влияют на стоимость квартиры? Изучите, зависит ли цена от квадратного метра, числа комнат, этажа (первого или последнего), удалённости от центра. Также изучите зависимость от даты размещения: дня недели, месяца и года. \"Выберите 10 населённых пунктов с наибольшим числом объявлений. Посчитайте среднюю цену квадратного метра в этих населённых пунктах. Выделите населённые пункты с самой высокой и низкой стоимостью жилья. Эти данные можно найти по имени в столбце '*locality_name'*. \"\n",
    "- [x]  выполнено задание: \"Изучите предложения квартир: для каждой квартиры есть информация о расстоянии до центра. Выделите квартиры в Санкт-Петербурге (*'locality_name'*). Ваша задача — выяснить, какая область входит в центр. Создайте столбец с расстоянием до центра в километрах: округлите до целых значений. После этого посчитайте среднюю цену для каждого километра. Постройте график: он должен показывать, как цена зависит от удалённости от центра. Определите границу, где график сильно меняется — это и будет центральная зона. \"\n",
    "- [x]  выполнено задание: \"Выделите сегмент квартир в центре. Проанализируйте эту территорию и изучите следующие параметры: площадь, цена, число комнат, высота потолков. Также выделите факторы, которые влияют на стоимость квартиры (число комнат, этаж, удалённость от центра, дата размещения объявления). Сделайте выводы. Отличаются ли они от общих выводов по всему городу?\"\n",
    "- [x]  в каждом этапе есть выводы\n",
    "- [x]  есть общий вывод"
   ]
  }
 ],
 "metadata": {
  "kernelspec": {
   "display_name": "Python 3",
   "language": "python",
   "name": "python3"
  },
  "language_info": {
   "codemirror_mode": {
    "name": "ipython",
    "version": 3
   },
   "file_extension": ".py",
   "mimetype": "text/x-python",
   "name": "python",
   "nbconvert_exporter": "python",
   "pygments_lexer": "ipython3",
   "version": "3.7.4"
  }
 },
 "nbformat": 4,
 "nbformat_minor": 2
}
